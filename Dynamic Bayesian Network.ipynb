{
 "cells": [
  {
   "cell_type": "markdown",
   "id": "5fdad31b",
   "metadata": {},
   "source": [
    "# Dynamic Bayesian Network\n",
    "将已经分类好的点进行预测"
   ]
  },
  {
   "cell_type": "code",
   "execution_count": 2,
   "id": "a69bc075",
   "metadata": {},
   "outputs": [],
   "source": [
    "import pandas as pd\n",
    "import numpy as np\n",
    "\n",
    "import datetime\n",
    "\n",
    "import matplotlib.pyplot as plt\n",
    "%matplotlib inline\n",
    "\n",
    "import seaborn as sns\n",
    "import warnings\n",
    "warnings.filterwarnings(\"ignore\")"
   ]
  },
  {
   "cell_type": "code",
   "execution_count": 3,
   "id": "6850e409",
   "metadata": {},
   "outputs": [],
   "source": [
    "# 从result中读取数据\n",
    "origin_data = pd.read_csv(r'.\\data\\select_data.csv',index_col = False)        # 选取的部分数据\n",
    "cluster_data = pd.read_csv(r'.\\result\\Cluster_result.csv',index_col = False)  # 选取的部分数据聚类后的分类簇\n",
    "origin_data['start_coor'] = origin_data['start_coor'].apply(lambda x: eval(x))\n",
    "origin_data['end_coor'] = origin_data['end_coor'].apply(lambda x: eval(x))\n"
   ]
  },
  {
   "cell_type": "code",
   "execution_count": 4,
   "id": "dbedcea0",
   "metadata": {
    "scrolled": false
   },
   "outputs": [
    {
     "name": "stdout",
     "output_type": "stream",
     "text": [
      "True\n"
     ]
    },
    {
     "data": {
      "text/html": [
       "<div>\n",
       "<style scoped>\n",
       "    .dataframe tbody tr th:only-of-type {\n",
       "        vertical-align: middle;\n",
       "    }\n",
       "\n",
       "    .dataframe tbody tr th {\n",
       "        vertical-align: top;\n",
       "    }\n",
       "\n",
       "    .dataframe thead th {\n",
       "        text-align: right;\n",
       "    }\n",
       "</style>\n",
       "<table border=\"1\" class=\"dataframe\">\n",
       "  <thead>\n",
       "    <tr style=\"text-align: right;\">\n",
       "      <th></th>\n",
       "      <th>lon</th>\n",
       "      <th>lat</th>\n",
       "      <th>time</th>\n",
       "      <th>cluster</th>\n",
       "    </tr>\n",
       "  </thead>\n",
       "  <tbody>\n",
       "    <tr>\n",
       "      <th>0</th>\n",
       "      <td>41.14521</td>\n",
       "      <td>-8.610633</td>\n",
       "      <td>2014-04-01 00:01:31</td>\n",
       "      <td>1</td>\n",
       "    </tr>\n",
       "    <tr>\n",
       "      <th>1</th>\n",
       "      <td>41.16978</td>\n",
       "      <td>-8.589258</td>\n",
       "      <td>2014-04-01 00:01:32</td>\n",
       "      <td>9</td>\n",
       "    </tr>\n",
       "  </tbody>\n",
       "</table>\n",
       "</div>"
      ],
      "text/plain": [
       "        lon       lat                 time  cluster\n",
       "0  41.14521 -8.610633  2014-04-01 00:01:31        1\n",
       "1  41.16978 -8.589258  2014-04-01 00:01:32        9"
      ]
     },
     "execution_count": 4,
     "metadata": {},
     "output_type": "execute_result"
    }
   ],
   "source": [
    "print(origin_data.shape[0]*2 == cluster_data.shape[0])\n",
    "cluster_data.head(2)"
   ]
  },
  {
   "cell_type": "code",
   "execution_count": 5,
   "id": "c78b3030",
   "metadata": {},
   "outputs": [],
   "source": [
    "relation = pd.read_csv(r'.\\result\\relation.csv',index_col = False)\n",
    "relation = relation.rename(columns={'origin_cluster':'cluster'})\n",
    "relation.loc[len(relation)] = [-1,-1]\n",
    "#cluster_data['cluster'] = pd.merge(cluster_data, relation, on = ['cluster'])['new_cluster'].values\n"
   ]
  },
  {
   "cell_type": "code",
   "execution_count": 7,
   "id": "7374851d",
   "metadata": {},
   "outputs": [
    {
     "data": {
      "text/html": [
       "<div>\n",
       "<style scoped>\n",
       "    .dataframe tbody tr th:only-of-type {\n",
       "        vertical-align: middle;\n",
       "    }\n",
       "\n",
       "    .dataframe tbody tr th {\n",
       "        vertical-align: top;\n",
       "    }\n",
       "\n",
       "    .dataframe thead th {\n",
       "        text-align: right;\n",
       "    }\n",
       "</style>\n",
       "<table border=\"1\" class=\"dataframe\">\n",
       "  <thead>\n",
       "    <tr style=\"text-align: right;\">\n",
       "      <th></th>\n",
       "      <th>TRIP_ID</th>\n",
       "      <th>TAXI_ID</th>\n",
       "      <th>DAY_TYPE</th>\n",
       "      <th>CALL_TYPE</th>\n",
       "      <th>Polyline Length</th>\n",
       "      <th>Trip Time(sec)</th>\n",
       "      <th>start_coor</th>\n",
       "      <th>end_coor</th>\n",
       "      <th>start_time</th>\n",
       "      <th>end_time</th>\n",
       "      <th>start_cluster</th>\n",
       "      <th>end_cluster</th>\n",
       "    </tr>\n",
       "  </thead>\n",
       "  <tbody>\n",
       "    <tr>\n",
       "      <th>0</th>\n",
       "      <td>1396281691620000900</td>\n",
       "      <td>20000900</td>\n",
       "      <td>A</td>\n",
       "      <td>3</td>\n",
       "      <td>38</td>\n",
       "      <td>570</td>\n",
       "      <td>[-8.610633, 41.14521]</td>\n",
       "      <td>[-8.585694, 41.148828]</td>\n",
       "      <td>2014-04-01 00:01:31</td>\n",
       "      <td>2014-04-01 00:11:01</td>\n",
       "      <td>1</td>\n",
       "      <td>1</td>\n",
       "    </tr>\n",
       "    <tr>\n",
       "      <th>1</th>\n",
       "      <td>1396281692620000353</td>\n",
       "      <td>20000353</td>\n",
       "      <td>A</td>\n",
       "      <td>2</td>\n",
       "      <td>56</td>\n",
       "      <td>840</td>\n",
       "      <td>[-8.589258, 41.16978]</td>\n",
       "      <td>[-8.609571, 41.151834]</td>\n",
       "      <td>2014-04-01 00:01:32</td>\n",
       "      <td>2014-04-01 00:15:32</td>\n",
       "      <td>1</td>\n",
       "      <td>1</td>\n",
       "    </tr>\n",
       "    <tr>\n",
       "      <th>2</th>\n",
       "      <td>1396281713620000670</td>\n",
       "      <td>20000670</td>\n",
       "      <td>A</td>\n",
       "      <td>2</td>\n",
       "      <td>58</td>\n",
       "      <td>870</td>\n",
       "      <td>[-8.61057, 41.145183]</td>\n",
       "      <td>[-8.614719, 41.152842]</td>\n",
       "      <td>2014-04-01 00:01:53</td>\n",
       "      <td>2014-04-01 00:16:23</td>\n",
       "      <td>1</td>\n",
       "      <td>1</td>\n",
       "    </tr>\n",
       "    <tr>\n",
       "      <th>3</th>\n",
       "      <td>1396281722620000467</td>\n",
       "      <td>20000467</td>\n",
       "      <td>A</td>\n",
       "      <td>3</td>\n",
       "      <td>38</td>\n",
       "      <td>570</td>\n",
       "      <td>[-8.60004, 41.182713]</td>\n",
       "      <td>[-8.598843, 41.164596]</td>\n",
       "      <td>2014-04-01 00:02:02</td>\n",
       "      <td>2014-04-01 00:11:32</td>\n",
       "      <td>1</td>\n",
       "      <td>1</td>\n",
       "    </tr>\n",
       "    <tr>\n",
       "      <th>4</th>\n",
       "      <td>1396281727620000429</td>\n",
       "      <td>20000429</td>\n",
       "      <td>A</td>\n",
       "      <td>2</td>\n",
       "      <td>193</td>\n",
       "      <td>2895</td>\n",
       "      <td>[-8.628516, 41.157414]</td>\n",
       "      <td>[-8.401986, 40.833675]</td>\n",
       "      <td>2014-04-01 00:02:07</td>\n",
       "      <td>2014-04-01 00:50:22</td>\n",
       "      <td>1</td>\n",
       "      <td>1</td>\n",
       "    </tr>\n",
       "  </tbody>\n",
       "</table>\n",
       "</div>"
      ],
      "text/plain": [
       "               TRIP_ID   TAXI_ID DAY_TYPE  CALL_TYPE  Polyline Length  \\\n",
       "0  1396281691620000900  20000900        A          3               38   \n",
       "1  1396281692620000353  20000353        A          2               56   \n",
       "2  1396281713620000670  20000670        A          2               58   \n",
       "3  1396281722620000467  20000467        A          3               38   \n",
       "4  1396281727620000429  20000429        A          2              193   \n",
       "\n",
       "   Trip Time(sec)              start_coor                end_coor  \\\n",
       "0             570   [-8.610633, 41.14521]  [-8.585694, 41.148828]   \n",
       "1             840   [-8.589258, 41.16978]  [-8.609571, 41.151834]   \n",
       "2             870   [-8.61057, 41.145183]  [-8.614719, 41.152842]   \n",
       "3             570   [-8.60004, 41.182713]  [-8.598843, 41.164596]   \n",
       "4            2895  [-8.628516, 41.157414]  [-8.401986, 40.833675]   \n",
       "\n",
       "            start_time             end_time  start_cluster  end_cluster  \n",
       "0  2014-04-01 00:01:31  2014-04-01 00:11:01              1            1  \n",
       "1  2014-04-01 00:01:32  2014-04-01 00:15:32              1            1  \n",
       "2  2014-04-01 00:01:53  2014-04-01 00:16:23              1            1  \n",
       "3  2014-04-01 00:02:02  2014-04-01 00:11:32              1            1  \n",
       "4  2014-04-01 00:02:07  2014-04-01 00:50:22              1            1  "
      ]
     },
     "execution_count": 7,
     "metadata": {},
     "output_type": "execute_result"
    }
   ],
   "source": [
    "origin_data['start_cluster'] = cluster_data['cluster'][0:len(origin_data)].values\n",
    "origin_data['end_cluster'] = cluster_data['cluster'][len(origin_data):].values\n",
    "#origin_data.to_csv(r'.\\result\\Cluster_result_month4_cleaned.csv',index = False)\n",
    "origin_data.head()"
   ]
  },
  {
   "cell_type": "code",
   "execution_count": 8,
   "id": "9d9032a0",
   "metadata": {},
   "outputs": [
    {
     "data": {
      "text/plain": [
       "(4338, 12)"
      ]
     },
     "execution_count": 8,
     "metadata": {},
     "output_type": "execute_result"
    }
   ],
   "source": [
    "origin_data.shape"
   ]
  },
  {
   "cell_type": "code",
   "execution_count": 9,
   "id": "f78a227c",
   "metadata": {},
   "outputs": [
    {
     "data": {
      "text/html": [
       "<div>\n",
       "<style scoped>\n",
       "    .dataframe tbody tr th:only-of-type {\n",
       "        vertical-align: middle;\n",
       "    }\n",
       "\n",
       "    .dataframe tbody tr th {\n",
       "        vertical-align: top;\n",
       "    }\n",
       "\n",
       "    .dataframe thead th {\n",
       "        text-align: right;\n",
       "    }\n",
       "</style>\n",
       "<table border=\"1\" class=\"dataframe\">\n",
       "  <thead>\n",
       "    <tr style=\"text-align: right;\">\n",
       "      <th></th>\n",
       "      <th>TRIP_ID</th>\n",
       "      <th>TAXI_ID</th>\n",
       "      <th>DAY_TYPE</th>\n",
       "      <th>CALL_TYPE</th>\n",
       "      <th>Polyline Length</th>\n",
       "      <th>Trip Time(sec)</th>\n",
       "      <th>start_coor</th>\n",
       "      <th>end_coor</th>\n",
       "      <th>start_time</th>\n",
       "      <th>end_time</th>\n",
       "      <th>start_cluster</th>\n",
       "      <th>end_cluster</th>\n",
       "    </tr>\n",
       "  </thead>\n",
       "  <tbody>\n",
       "    <tr>\n",
       "      <th>0</th>\n",
       "      <td>1396281691620000900</td>\n",
       "      <td>20000900</td>\n",
       "      <td>A</td>\n",
       "      <td>3</td>\n",
       "      <td>38</td>\n",
       "      <td>570</td>\n",
       "      <td>[-8.610633, 41.14521]</td>\n",
       "      <td>[-8.585694, 41.148828]</td>\n",
       "      <td>2014-04-01 00:01:31</td>\n",
       "      <td>2014-04-01 00:11:01</td>\n",
       "      <td>1</td>\n",
       "      <td>1</td>\n",
       "    </tr>\n",
       "    <tr>\n",
       "      <th>1</th>\n",
       "      <td>1396281692620000353</td>\n",
       "      <td>20000353</td>\n",
       "      <td>A</td>\n",
       "      <td>2</td>\n",
       "      <td>56</td>\n",
       "      <td>840</td>\n",
       "      <td>[-8.589258, 41.16978]</td>\n",
       "      <td>[-8.609571, 41.151834]</td>\n",
       "      <td>2014-04-01 00:01:32</td>\n",
       "      <td>2014-04-01 00:15:32</td>\n",
       "      <td>1</td>\n",
       "      <td>1</td>\n",
       "    </tr>\n",
       "    <tr>\n",
       "      <th>2</th>\n",
       "      <td>1396281713620000670</td>\n",
       "      <td>20000670</td>\n",
       "      <td>A</td>\n",
       "      <td>2</td>\n",
       "      <td>58</td>\n",
       "      <td>870</td>\n",
       "      <td>[-8.61057, 41.145183]</td>\n",
       "      <td>[-8.614719, 41.152842]</td>\n",
       "      <td>2014-04-01 00:01:53</td>\n",
       "      <td>2014-04-01 00:16:23</td>\n",
       "      <td>1</td>\n",
       "      <td>1</td>\n",
       "    </tr>\n",
       "    <tr>\n",
       "      <th>3</th>\n",
       "      <td>1396281722620000467</td>\n",
       "      <td>20000467</td>\n",
       "      <td>A</td>\n",
       "      <td>3</td>\n",
       "      <td>38</td>\n",
       "      <td>570</td>\n",
       "      <td>[-8.60004, 41.182713]</td>\n",
       "      <td>[-8.598843, 41.164596]</td>\n",
       "      <td>2014-04-01 00:02:02</td>\n",
       "      <td>2014-04-01 00:11:32</td>\n",
       "      <td>1</td>\n",
       "      <td>1</td>\n",
       "    </tr>\n",
       "    <tr>\n",
       "      <th>4</th>\n",
       "      <td>1396281727620000429</td>\n",
       "      <td>20000429</td>\n",
       "      <td>A</td>\n",
       "      <td>2</td>\n",
       "      <td>193</td>\n",
       "      <td>2895</td>\n",
       "      <td>[-8.628516, 41.157414]</td>\n",
       "      <td>[-8.401986, 40.833675]</td>\n",
       "      <td>2014-04-01 00:02:07</td>\n",
       "      <td>2014-04-01 00:50:22</td>\n",
       "      <td>1</td>\n",
       "      <td>1</td>\n",
       "    </tr>\n",
       "  </tbody>\n",
       "</table>\n",
       "</div>"
      ],
      "text/plain": [
       "               TRIP_ID   TAXI_ID DAY_TYPE  CALL_TYPE  Polyline Length  \\\n",
       "0  1396281691620000900  20000900        A          3               38   \n",
       "1  1396281692620000353  20000353        A          2               56   \n",
       "2  1396281713620000670  20000670        A          2               58   \n",
       "3  1396281722620000467  20000467        A          3               38   \n",
       "4  1396281727620000429  20000429        A          2              193   \n",
       "\n",
       "   Trip Time(sec)              start_coor                end_coor  \\\n",
       "0             570   [-8.610633, 41.14521]  [-8.585694, 41.148828]   \n",
       "1             840   [-8.589258, 41.16978]  [-8.609571, 41.151834]   \n",
       "2             870   [-8.61057, 41.145183]  [-8.614719, 41.152842]   \n",
       "3             570   [-8.60004, 41.182713]  [-8.598843, 41.164596]   \n",
       "4            2895  [-8.628516, 41.157414]  [-8.401986, 40.833675]   \n",
       "\n",
       "            start_time             end_time  start_cluster  end_cluster  \n",
       "0  2014-04-01 00:01:31  2014-04-01 00:11:01              1            1  \n",
       "1  2014-04-01 00:01:32  2014-04-01 00:15:32              1            1  \n",
       "2  2014-04-01 00:01:53  2014-04-01 00:16:23              1            1  \n",
       "3  2014-04-01 00:02:02  2014-04-01 00:11:32              1            1  \n",
       "4  2014-04-01 00:02:07  2014-04-01 00:50:22              1            1  "
      ]
     },
     "execution_count": 9,
     "metadata": {},
     "output_type": "execute_result"
    }
   ],
   "source": [
    "origin_data.head(5)"
   ]
  },
  {
   "cell_type": "code",
   "execution_count": null,
   "id": "530504ca",
   "metadata": {},
   "outputs": [],
   "source": []
  },
  {
   "cell_type": "code",
   "execution_count": 10,
   "id": "345956f6",
   "metadata": {},
   "outputs": [
    {
     "data": {
      "text/plain": [
       "(2581, 12)"
      ]
     },
     "execution_count": 10,
     "metadata": {},
     "output_type": "execute_result"
    }
   ],
   "source": [
    "origin_data.drop(origin_data[((origin_data['start_cluster'] == -1) | (origin_data['end_cluster'] == -1))].index,inplace = True)\n",
    "origin_data.shape"
   ]
  },
  {
   "cell_type": "code",
   "execution_count": 11,
   "id": "4f846b50",
   "metadata": {},
   "outputs": [
    {
     "name": "stdout",
     "output_type": "stream",
     "text": [
      "聚类簇数目：4\n"
     ]
    }
   ],
   "source": [
    "cluster_num = max(origin_data['start_cluster'].max(),origin_data['end_cluster'].max())\n",
    "print(f'聚类簇数目：{cluster_num}')"
   ]
  },
  {
   "cell_type": "code",
   "execution_count": 12,
   "id": "b5424f5a",
   "metadata": {},
   "outputs": [],
   "source": [
    "\n",
    "origin_data['start_time'] = pd.to_datetime(origin_data['start_time'],format='%Y-%m-%d %H:%M:%S')\n",
    "origin_data['end_time'] =  pd.to_datetime(origin_data['end_time'],format='%Y-%m-%d %H:%M:%S')"
   ]
  },
  {
   "cell_type": "code",
   "execution_count": 13,
   "id": "22ec533a",
   "metadata": {},
   "outputs": [
    {
     "data": {
      "text/plain": [
       "NaT"
      ]
     },
     "execution_count": 13,
     "metadata": {},
     "output_type": "execute_result"
    }
   ],
   "source": [
    "origin_data[origin_data['start_cluster' ]== 3]['start_time'].min()"
   ]
  },
  {
   "cell_type": "code",
   "execution_count": 14,
   "id": "e93254b0",
   "metadata": {},
   "outputs": [
    {
     "data": {
      "text/html": [
       "<div>\n",
       "<style scoped>\n",
       "    .dataframe tbody tr th:only-of-type {\n",
       "        vertical-align: middle;\n",
       "    }\n",
       "\n",
       "    .dataframe tbody tr th {\n",
       "        vertical-align: top;\n",
       "    }\n",
       "\n",
       "    .dataframe thead th {\n",
       "        text-align: right;\n",
       "    }\n",
       "</style>\n",
       "<table border=\"1\" class=\"dataframe\">\n",
       "  <thead>\n",
       "    <tr style=\"text-align: right;\">\n",
       "      <th></th>\n",
       "      <th>TRIP_ID</th>\n",
       "      <th>TAXI_ID</th>\n",
       "      <th>DAY_TYPE</th>\n",
       "      <th>CALL_TYPE</th>\n",
       "      <th>Polyline Length</th>\n",
       "      <th>Trip Time(sec)</th>\n",
       "      <th>start_coor</th>\n",
       "      <th>end_coor</th>\n",
       "      <th>start_time</th>\n",
       "      <th>end_time</th>\n",
       "      <th>start_cluster</th>\n",
       "      <th>end_cluster</th>\n",
       "      <th>TIME_TYPE</th>\n",
       "    </tr>\n",
       "  </thead>\n",
       "  <tbody>\n",
       "    <tr>\n",
       "      <th>0</th>\n",
       "      <td>1396281691620000900</td>\n",
       "      <td>20000900</td>\n",
       "      <td>1</td>\n",
       "      <td>3</td>\n",
       "      <td>38</td>\n",
       "      <td>570</td>\n",
       "      <td>[-8.610633, 41.14521]</td>\n",
       "      <td>[-8.585694, 41.148828]</td>\n",
       "      <td>2014-04-01 00:01:31</td>\n",
       "      <td>2014-04-01 00:11:01</td>\n",
       "      <td>1</td>\n",
       "      <td>1</td>\n",
       "      <td>1</td>\n",
       "    </tr>\n",
       "    <tr>\n",
       "      <th>1</th>\n",
       "      <td>1396281692620000353</td>\n",
       "      <td>20000353</td>\n",
       "      <td>1</td>\n",
       "      <td>2</td>\n",
       "      <td>56</td>\n",
       "      <td>840</td>\n",
       "      <td>[-8.589258, 41.16978]</td>\n",
       "      <td>[-8.609571, 41.151834]</td>\n",
       "      <td>2014-04-01 00:01:32</td>\n",
       "      <td>2014-04-01 00:15:32</td>\n",
       "      <td>1</td>\n",
       "      <td>1</td>\n",
       "      <td>1</td>\n",
       "    </tr>\n",
       "    <tr>\n",
       "      <th>2</th>\n",
       "      <td>1396281713620000670</td>\n",
       "      <td>20000670</td>\n",
       "      <td>1</td>\n",
       "      <td>2</td>\n",
       "      <td>58</td>\n",
       "      <td>870</td>\n",
       "      <td>[-8.61057, 41.145183]</td>\n",
       "      <td>[-8.614719, 41.152842]</td>\n",
       "      <td>2014-04-01 00:01:53</td>\n",
       "      <td>2014-04-01 00:16:23</td>\n",
       "      <td>1</td>\n",
       "      <td>1</td>\n",
       "      <td>1</td>\n",
       "    </tr>\n",
       "    <tr>\n",
       "      <th>3</th>\n",
       "      <td>1396281722620000467</td>\n",
       "      <td>20000467</td>\n",
       "      <td>1</td>\n",
       "      <td>3</td>\n",
       "      <td>38</td>\n",
       "      <td>570</td>\n",
       "      <td>[-8.60004, 41.182713]</td>\n",
       "      <td>[-8.598843, 41.164596]</td>\n",
       "      <td>2014-04-01 00:02:02</td>\n",
       "      <td>2014-04-01 00:11:32</td>\n",
       "      <td>1</td>\n",
       "      <td>1</td>\n",
       "      <td>1</td>\n",
       "    </tr>\n",
       "    <tr>\n",
       "      <th>4</th>\n",
       "      <td>1396281727620000429</td>\n",
       "      <td>20000429</td>\n",
       "      <td>1</td>\n",
       "      <td>2</td>\n",
       "      <td>193</td>\n",
       "      <td>2895</td>\n",
       "      <td>[-8.628516, 41.157414]</td>\n",
       "      <td>[-8.401986, 40.833675]</td>\n",
       "      <td>2014-04-01 00:02:07</td>\n",
       "      <td>2014-04-01 00:50:22</td>\n",
       "      <td>1</td>\n",
       "      <td>1</td>\n",
       "      <td>1</td>\n",
       "    </tr>\n",
       "  </tbody>\n",
       "</table>\n",
       "</div>"
      ],
      "text/plain": [
       "               TRIP_ID   TAXI_ID  DAY_TYPE  CALL_TYPE  Polyline Length  \\\n",
       "0  1396281691620000900  20000900         1          3               38   \n",
       "1  1396281692620000353  20000353         1          2               56   \n",
       "2  1396281713620000670  20000670         1          2               58   \n",
       "3  1396281722620000467  20000467         1          3               38   \n",
       "4  1396281727620000429  20000429         1          2              193   \n",
       "\n",
       "   Trip Time(sec)              start_coor                end_coor  \\\n",
       "0             570   [-8.610633, 41.14521]  [-8.585694, 41.148828]   \n",
       "1             840   [-8.589258, 41.16978]  [-8.609571, 41.151834]   \n",
       "2             870   [-8.61057, 41.145183]  [-8.614719, 41.152842]   \n",
       "3             570   [-8.60004, 41.182713]  [-8.598843, 41.164596]   \n",
       "4            2895  [-8.628516, 41.157414]  [-8.401986, 40.833675]   \n",
       "\n",
       "           start_time            end_time  start_cluster  end_cluster  \\\n",
       "0 2014-04-01 00:01:31 2014-04-01 00:11:01              1            1   \n",
       "1 2014-04-01 00:01:32 2014-04-01 00:15:32              1            1   \n",
       "2 2014-04-01 00:01:53 2014-04-01 00:16:23              1            1   \n",
       "3 2014-04-01 00:02:02 2014-04-01 00:11:32              1            1   \n",
       "4 2014-04-01 00:02:07 2014-04-01 00:50:22              1            1   \n",
       "\n",
       "   TIME_TYPE  \n",
       "0          1  \n",
       "1          1  \n",
       "2          1  \n",
       "3          1  \n",
       "4          1  "
      ]
     },
     "execution_count": 14,
     "metadata": {},
     "output_type": "execute_result"
    }
   ],
   "source": [
    "# call_type day_type TIME_TYPE\n",
    "origin_data['DAY_TYPE'] = origin_data['DAY_TYPE'].apply(lambda x: 1 if (x == 'A') else (2 if x == 'B' else 3))\n",
    "origin_data['TIME_TYPE'] = origin_data['start_time'].apply(lambda x :x.hour+1)\n",
    "origin_data.head()"
   ]
  },
  {
   "cell_type": "code",
   "execution_count": 15,
   "id": "3739e896",
   "metadata": {},
   "outputs": [],
   "source": [
    "origin_data.to_csv(r'.\\result\\origin_data.csv',index = False)"
   ]
  },
  {
   "cell_type": "markdown",
   "id": "ae90cd59",
   "metadata": {},
   "source": [
    "## Set Up Model"
   ]
  },
  {
   "cell_type": "code",
   "execution_count": 16,
   "id": "cfb51029",
   "metadata": {},
   "outputs": [],
   "source": [
    "from pgmpy.models import BayesianNetwork\n",
    "from pgmpy.estimators import BayesianEstimator\n",
    "data = origin_data.loc[:,['end_cluster','start_cluster','DAY_TYPE','CALL_TYPE','TIME_TYPE']]"
   ]
  },
  {
   "cell_type": "code",
   "execution_count": 17,
   "id": "bdd19a0d",
   "metadata": {},
   "outputs": [],
   "source": [
    "# set up Model\n",
    "\n",
    "BN = BayesianNetwork([('start_cluster','end_cluster'),\n",
    "                      ('DAY_TYPE','end_cluster'),\n",
    "                      ('TIME_TYPE','end_cluster'),\n",
    "                     ('CALL_TYPE','end_cluster')])\n",
    "\n"
   ]
  },
  {
   "cell_type": "code",
   "execution_count": 21,
   "id": "a4997467",
   "metadata": {},
   "outputs": [
    {
     "name": "stdout",
     "output_type": "stream",
     "text": [
      "+----------------+----------------------+-----+----------------------+------------------------+\n",
      "| CALL_TYPE      | CALL_TYPE(1)         | ... | CALL_TYPE(3)         | CALL_TYPE(3)           |\n",
      "+----------------+----------------------+-----+----------------------+------------------------+\n",
      "| DAY_TYPE       | DAY_TYPE(1)          | ... | DAY_TYPE(1)          | DAY_TYPE(1)            |\n",
      "+----------------+----------------------+-----+----------------------+------------------------+\n",
      "| TIME_TYPE      | TIME_TYPE(1)         | ... | TIME_TYPE(23)        | TIME_TYPE(24)          |\n",
      "+----------------+----------------------+-----+----------------------+------------------------+\n",
      "| start_cluster  | start_cluster(1)     | ... | start_cluster(1)     | start_cluster(1)       |\n",
      "+----------------+----------------------+-----+----------------------+------------------------+\n",
      "| end_cluster(1) | 0.9979597388465722   | ... | 0.3198209718670077   | 0.2890962368908081     |\n",
      "+----------------+----------------------+-----+----------------------+------------------------+\n",
      "| end_cluster(2) | 0.000680087051142546 | ... | 0.35971867007672637  | 0.10865206662553979    |\n",
      "+----------------+----------------------+-----+----------------------+------------------------+\n",
      "| end_cluster(3) | 0.000680087051142546 | ... | 0.000639386189258312 | 0.00038556446637877845 |\n",
      "+----------------+----------------------+-----+----------------------+------------------------+\n",
      "| end_cluster(4) | 0.000680087051142546 | ... | 0.3198209718670077   | 0.6018661320172732     |\n",
      "+----------------+----------------------+-----+----------------------+------------------------+\n"
     ]
    },
    {
     "data": {
      "text/html": [
       "<div>\n",
       "<style scoped>\n",
       "    .dataframe tbody tr th:only-of-type {\n",
       "        vertical-align: middle;\n",
       "    }\n",
       "\n",
       "    .dataframe tbody tr th {\n",
       "        vertical-align: top;\n",
       "    }\n",
       "\n",
       "    .dataframe thead th {\n",
       "        text-align: right;\n",
       "    }\n",
       "</style>\n",
       "<table border=\"1\" class=\"dataframe\">\n",
       "  <thead>\n",
       "    <tr style=\"text-align: right;\">\n",
       "      <th></th>\n",
       "      <th>end_cluster</th>\n",
       "      <th>start_cluster</th>\n",
       "      <th>DAY_TYPE</th>\n",
       "      <th>CALL_TYPE</th>\n",
       "      <th>TIME_TYPE</th>\n",
       "    </tr>\n",
       "  </thead>\n",
       "  <tbody>\n",
       "  </tbody>\n",
       "</table>\n",
       "</div>"
      ],
      "text/plain": [
       "Empty DataFrame\n",
       "Columns: [end_cluster, start_cluster, DAY_TYPE, CALL_TYPE, TIME_TYPE]\n",
       "Index: []"
      ]
     },
     "execution_count": 21,
     "metadata": {},
     "output_type": "execute_result"
    }
   ],
   "source": [
    "# estimate CPDS\n",
    "estimator = BayesianEstimator(BN, data)\n",
    "\n",
    "# pseudo_counts为先验信息虚拟count ， 见 estimator.estimate_cpd 的 sample\n",
    "\n",
    "\n",
    "cpd = estimator.estimate_cpd(node='end_cluster')\n",
    "\n",
    "print(cpd)\n",
    "data[(data['CALL_TYPE'] == 3) & (data['TIME_TYPE'] == 24) & (data['start_cluster'] == 2)]"
   ]
  },
  {
   "cell_type": "code",
   "execution_count": 22,
   "id": "eacc6b38",
   "metadata": {},
   "outputs": [
    {
     "name": "stdout",
     "output_type": "stream",
     "text": [
      "(4, 3, 1, 13, 1)\n",
      "(4, 3, 13)\n"
     ]
    },
    {
     "data": {
      "text/plain": [
       "Text(33.0, 0.5, 'End_Cluster')"
      ]
     },
     "execution_count": 22,
     "metadata": {},
     "output_type": "execute_result"
    },
    {
     "data": {
      "image/png": "[encoded data removed]",
      "text/plain": [
       "<Figure size 432x288 with 2 Axes>"
      ]
     },
     "metadata": {
      "needs_background": "light"
     },
     "output_type": "display_data"
    }
   ],
   "source": [
    "# ['end_cluster', 'CALL_TYPE', 'DAY_TYPE', 'TIME_TYPE', 'start_cluster']\n",
    "print(cpd.values.shape)\n",
    "# ['end_cluster', 'CALL_TYPE' , 'TIME_TYPE', 'start_cluster']\n",
    "CPD = np.squeeze(cpd.values)\n",
    "print(CPD.shape)\n",
    "# print(cpd.no_to_name)\n",
    "\n",
    "# 计算不同start_cluster每个时间段的转移\n",
    "def Relative_Probability(CPD,rela_mat = [0,3]):\n",
    "    rela_mat.sort()\n",
    "    if len(CPD.shape) < 2:\n",
    "        print(f'输入CPD矩阵维度{CPD.shape}，不等于2！')\n",
    "        return\n",
    "    if len(rela_mat) != 2:\n",
    "        print(f'相对概率的输入索引mat应为[x,y]，为两列')\n",
    "        return\n",
    "    allindex = [i for i in range(len(CPD.shape))]\n",
    "    num = [i for i in allindex if i not in rela_mat]\n",
    "\n",
    "    t = 1\n",
    "    for i in range(len(num)):\n",
    "        t *= CPD.shape[num[i]]\n",
    "\n",
    "    CPD = np.array(CPD)\n",
    "    mat = np.zeros((CPD.shape[rela_mat[0]],CPD.shape[rela_mat[1]]))\n",
    "    for i in range(mat.shape[0]):\n",
    "        for j in range(mat.shape[1]):\n",
    "            temp = CPD.take(indices=i,axis=rela_mat[0])\n",
    "            temp = temp.take(indices=j,axis=rela_mat[1]-1)\n",
    "            mat[i,j] = temp.reshape(1,-1).sum()/t\n",
    "            \n",
    "    return np.array(mat)\n",
    "RP = Relative_Probability(CPD,rela_mat = [0,2])\n",
    "sns.heatmap(RP,vmin=0,             #刻度阈值\n",
    "                 vmax=0.1,cmap=\"YlGnBu\")\n",
    "\n",
    "plt.xlabel(\"Start_Cluster\",size=10)\n",
    "plt.ylabel(\"End_Cluster\",size=10)"
   ]
  },
  {
   "cell_type": "markdown",
   "id": "5c1919ad",
   "metadata": {},
   "source": [
    "## Model Testing"
   ]
  },
  {
   "cell_type": "code",
   "execution_count": 34,
   "id": "22438d5e",
   "metadata": {},
   "outputs": [],
   "source": [
    "from pgmpy.inference import VariableElimination\n",
    "# 关系score\n",
    "from pgmpy.metrics import correlation_score \n",
    "# 结构score\n",
    "from pgmpy.metrics import structure_score"
   ]
  },
  {
   "cell_type": "code",
   "execution_count": 35,
   "id": "686d8e0a",
   "metadata": {},
   "outputs": [
    {
     "data": {
      "text/plain": [
       "0.6"
      ]
     },
     "execution_count": 35,
     "metadata": {},
     "output_type": "execute_result"
    }
   ],
   "source": [
    "correlation_score(BN, data, test=\"chi_square\", significance_level=0.05)"
   ]
  },
  {
   "cell_type": "code",
   "execution_count": 36,
   "id": "e9dce7c0",
   "metadata": {},
   "outputs": [
    {
     "data": {
      "text/plain": [
       "-240666.2530243111"
      ]
     },
     "execution_count": 36,
     "metadata": {},
     "output_type": "execute_result"
    }
   ],
   "source": [
    "structure_score(BN,data,scoring_method=\"bic\")"
   ]
  },
  {
   "cell_type": "code",
   "execution_count": 21,
   "id": "2b1d9596",
   "metadata": {},
   "outputs": [
    {
     "data": {
      "text/html": [
       "<div>\n",
       "<style scoped>\n",
       "    .dataframe tbody tr th:only-of-type {\n",
       "        vertical-align: middle;\n",
       "    }\n",
       "\n",
       "    .dataframe tbody tr th {\n",
       "        vertical-align: top;\n",
       "    }\n",
       "\n",
       "    .dataframe thead th {\n",
       "        text-align: right;\n",
       "    }\n",
       "</style>\n",
       "<table border=\"1\" class=\"dataframe\">\n",
       "  <thead>\n",
       "    <tr style=\"text-align: right;\">\n",
       "      <th></th>\n",
       "      <th>A</th>\n",
       "      <th>C</th>\n",
       "      <th>D</th>\n",
       "    </tr>\n",
       "  </thead>\n",
       "  <tbody>\n",
       "    <tr>\n",
       "      <th>0</th>\n",
       "      <td>1</td>\n",
       "      <td>1</td>\n",
       "      <td>1</td>\n",
       "    </tr>\n",
       "    <tr>\n",
       "      <th>1</th>\n",
       "      <td>1</td>\n",
       "      <td>0</td>\n",
       "      <td>0</td>\n",
       "    </tr>\n",
       "    <tr>\n",
       "      <th>2</th>\n",
       "      <td>1</td>\n",
       "      <td>1</td>\n",
       "      <td>0</td>\n",
       "    </tr>\n",
       "    <tr>\n",
       "      <th>3</th>\n",
       "      <td>0</td>\n",
       "      <td>0</td>\n",
       "      <td>1</td>\n",
       "    </tr>\n",
       "    <tr>\n",
       "      <th>4</th>\n",
       "      <td>1</td>\n",
       "      <td>0</td>\n",
       "      <td>0</td>\n",
       "    </tr>\n",
       "    <tr>\n",
       "      <th>...</th>\n",
       "      <td>...</td>\n",
       "      <td>...</td>\n",
       "      <td>...</td>\n",
       "    </tr>\n",
       "    <tr>\n",
       "      <th>995</th>\n",
       "      <td>1</td>\n",
       "      <td>0</td>\n",
       "      <td>1</td>\n",
       "    </tr>\n",
       "    <tr>\n",
       "      <th>996</th>\n",
       "      <td>1</td>\n",
       "      <td>1</td>\n",
       "      <td>0</td>\n",
       "    </tr>\n",
       "    <tr>\n",
       "      <th>997</th>\n",
       "      <td>0</td>\n",
       "      <td>0</td>\n",
       "      <td>1</td>\n",
       "    </tr>\n",
       "    <tr>\n",
       "      <th>998</th>\n",
       "      <td>0</td>\n",
       "      <td>1</td>\n",
       "      <td>1</td>\n",
       "    </tr>\n",
       "    <tr>\n",
       "      <th>999</th>\n",
       "      <td>0</td>\n",
       "      <td>1</td>\n",
       "      <td>1</td>\n",
       "    </tr>\n",
       "  </tbody>\n",
       "</table>\n",
       "<p>1000 rows × 3 columns</p>\n",
       "</div>"
      ],
      "text/plain": [
       "     A  C  D\n",
       "0    1  1  1\n",
       "1    1  0  0\n",
       "2    1  1  0\n",
       "3    0  0  1\n",
       "4    1  0  0\n",
       "..  .. .. ..\n",
       "995  1  0  1\n",
       "996  1  1  0\n",
       "997  0  0  1\n",
       "998  0  1  1\n",
       "999  0  1  1\n",
       "\n",
       "[1000 rows x 3 columns]"
      ]
     },
     "execution_count": 21,
     "metadata": {},
     "output_type": "execute_result"
    }
   ],
   "source": [
    "data"
   ]
  },
  {
   "cell_type": "code",
   "execution_count": 23,
   "id": "dc20f43d",
   "metadata": {},
   "outputs": [],
   "source": [
    "## input latent variable\n",
    "from pgmpy.models import BayesianNetwork\n",
    "from pgmpy.estimators import ExpectationMaximization as EM\n",
    "model = BayesianNetwork([('start_cluster','end_cluster'),\n",
    "                      ('DAY_TYPE','DateTime'),\n",
    "                      ('CALL_TYPE','end_cluster'),\n",
    "                     ('TIME_TYPE','DateTime'),\n",
    "                     ('DateTime','end_cluster')],\n",
    "                    latents = {'DateTime'})\n",
    "estimator = EM(model, data)\n"
   ]
  },
  {
   "cell_type": "code",
   "execution_count": 24,
   "id": "7bf35d66",
   "metadata": {},
   "outputs": [
    {
     "data": {
      "application/vnd.jupyter.widget-view+json": {
       "model_id": "67cae620e4c04e89a7f89b6826af4a4f",
       "version_major": 2,
       "version_minor": 0
      },
      "text/plain": [
       "  0%|          | 0/100 [00:00<?, ?it/s]"
      ]
     },
     "metadata": {},
     "output_type": "display_data"
    }
   ],
   "source": [
    "CPDs = estimator.get_parameters(latent_card = {'DateTime':12})\n",
    "\n"
   ]
  },
  {
   "cell_type": "code",
   "execution_count": 27,
   "id": "797335c0",
   "metadata": {},
   "outputs": [
    {
     "data": {
      "application/vnd.jupyter.widget-view+json": {
       "model_id": "07ba1ad475cc4b32b6f9a6865d270f30",
       "version_major": 2,
       "version_minor": 0
      },
      "text/plain": [
       "  0%|          | 0/723 [00:00<?, ?it/s]"
      ]
     },
     "metadata": {},
     "output_type": "display_data"
    },
    {
     "data": {
      "text/plain": [
       "0.5333333333333333"
      ]
     },
     "execution_count": 27,
     "metadata": {},
     "output_type": "execute_result"
    }
   ],
   "source": [
    "for i in range(len(CPDs)):    \n",
    "    model.add_cpds(CPDs[i])\n",
    "data['DateTime'] = model.predict(data)\n",
    "correlation_score(model, data, test=\"chi_square\", significance_level=0.05)"
   ]
  },
  {
   "cell_type": "code",
   "execution_count": 29,
   "id": "55d109ab",
   "metadata": {},
   "outputs": [
    {
     "data": {
      "text/plain": [
       "-125101.59211800048"
      ]
     },
     "execution_count": 29,
     "metadata": {},
     "output_type": "execute_result"
    }
   ],
   "source": [
    "structure_score(model,data,scoring_method=\"bic\")"
   ]
  },
  {
   "cell_type": "code",
   "execution_count": 74,
   "id": "c86d25e0",
   "metadata": {},
   "outputs": [
    {
     "data": {
      "text/plain": [
       "()"
      ]
     },
     "execution_count": 74,
     "metadata": {},
     "output_type": "execute_result"
    }
   ],
   "source": []
  },
  {
   "cell_type": "code",
   "execution_count": null,
   "id": "d52faffe",
   "metadata": {},
   "outputs": [],
   "source": []
  }
 ],
 "metadata": {
  "kernelspec": {
   "display_name": "Python 3 (ipykernel)",
   "language": "python",
   "name": "python3"
  },
  "language_info": {
   "codemirror_mode": {
    "name": "ipython",
    "version": 3
   },
   "file_extension": ".py",
   "mimetype": "text/x-python",
   "name": "python",
   "nbconvert_exporter": "python",
   "pygments_lexer": "ipython3",
   "version": "3.9.12"
  }
 },
 "nbformat": 4,
 "nbformat_minor": 5
}

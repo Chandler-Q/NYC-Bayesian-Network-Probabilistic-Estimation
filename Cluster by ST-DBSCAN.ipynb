{
 "cells": [
  {
   "cell_type": "code",
   "execution_count": 8,
   "id": "3c04f7c9",
   "metadata": {},
   "outputs": [],
   "source": [
    "import matplotlib.pyplot as plt\n",
    "%matplotlib inline\n",
    "import warnings\n",
    "warnings.filterwarnings(\"ignore\")\n",
    "\n",
    "# ===========基础库==========\n",
    "import pandas as pd\n",
    "import numpy as np\n",
    "from datetime import datetime\n",
    "# ===========自定义库==========\n",
    "from stdbscan import STDBSCAN\n"
   ]
  },
  {
   "cell_type": "raw",
   "id": "d5edb42e",
   "metadata": {},
   "source": [
    "'''\n",
    "STDBSCAN.fit_transform(self, df, col_lat, col_lon, col_time,\n",
    "                      col_cluster='cluster'):\n",
    "\n",
    "df : 输入数据； type = DataFrame\n",
    "col_lat : 坐标经度的DataFrame列名称， type = str\n",
    "col_lon : 坐标纬度的DataFrame列名称， type = str\n",
    "col_time: 时间维度的DataFrame列名称， type = datetime \n",
    "'''"
   ]
  },
  {
   "cell_type": "code",
   "execution_count": 9,
   "id": "526e2dcd",
   "metadata": {},
   "outputs": [
    {
     "data": {
      "text/html": [
       "<div>\n",
       "<style scoped>\n",
       "    .dataframe tbody tr th:only-of-type {\n",
       "        vertical-align: middle;\n",
       "    }\n",
       "\n",
       "    .dataframe tbody tr th {\n",
       "        vertical-align: top;\n",
       "    }\n",
       "\n",
       "    .dataframe thead th {\n",
       "        text-align: right;\n",
       "    }\n",
       "</style>\n",
       "<table border=\"1\" class=\"dataframe\">\n",
       "  <thead>\n",
       "    <tr style=\"text-align: right;\">\n",
       "      <th></th>\n",
       "      <th>lon</th>\n",
       "      <th>lat</th>\n",
       "    </tr>\n",
       "  </thead>\n",
       "  <tbody>\n",
       "    <tr>\n",
       "      <th>count</th>\n",
       "      <td>65332.000000</td>\n",
       "      <td>65332.000000</td>\n",
       "    </tr>\n",
       "    <tr>\n",
       "      <th>mean</th>\n",
       "      <td>41.160241</td>\n",
       "      <td>-8.616968</td>\n",
       "    </tr>\n",
       "    <tr>\n",
       "      <th>std</th>\n",
       "      <td>0.031136</td>\n",
       "      <td>0.049404</td>\n",
       "    </tr>\n",
       "    <tr>\n",
       "      <th>min</th>\n",
       "      <td>37.837557</td>\n",
       "      <td>-12.016791</td>\n",
       "    </tr>\n",
       "    <tr>\n",
       "      <th>25%</th>\n",
       "      <td>41.148405</td>\n",
       "      <td>-8.630955</td>\n",
       "    </tr>\n",
       "    <tr>\n",
       "      <th>50%</th>\n",
       "      <td>41.157000</td>\n",
       "      <td>-8.613099</td>\n",
       "    </tr>\n",
       "    <tr>\n",
       "      <th>75%</th>\n",
       "      <td>41.167026</td>\n",
       "      <td>-8.601795</td>\n",
       "    </tr>\n",
       "    <tr>\n",
       "      <th>max</th>\n",
       "      <td>43.764426</td>\n",
       "      <td>-4.588119</td>\n",
       "    </tr>\n",
       "  </tbody>\n",
       "</table>\n",
       "</div>"
      ],
      "text/plain": [
       "                lon           lat\n",
       "count  65332.000000  65332.000000\n",
       "mean      41.160241     -8.616968\n",
       "std        0.031136      0.049404\n",
       "min       37.837557    -12.016791\n",
       "25%       41.148405     -8.630955\n",
       "50%       41.157000     -8.613099\n",
       "75%       41.167026     -8.601795\n",
       "max       43.764426     -4.588119"
      ]
     },
     "execution_count": 9,
     "metadata": {},
     "output_type": "execute_result"
    }
   ],
   "source": [
    "path = r'.\\data\\Cluster_points_4_1-7.csv'\n",
    "df = pd.read_csv(path,index_col = False)\n",
    "\n",
    "df['time'] = df['time'].astype('datetime64')\n",
    "\n",
    "df.describe()"
   ]
  },
  {
   "cell_type": "code",
   "execution_count": 10,
   "id": "e5ff2122",
   "metadata": {},
   "outputs": [
    {
     "name": "stdout",
     "output_type": "stream",
     "text": [
      "Clustering 进度: 65332/65332"
     ]
    },
    {
     "data": {
      "text/plain": [
       "(65332, 4)"
      ]
     },
     "execution_count": 10,
     "metadata": {},
     "output_type": "execute_result"
    }
   ],
   "source": [
    "model = STDBSCAN(spatial_threshold=0.004, temporal_threshold=1800, # 0.003 7200 10\n",
    "                 min_neighbors=30, progress_bar = True)\n",
    "result = model.fit_transform(df, 'lat', 'lon', 'time')\n",
    "result.shape\n"
   ]
  },
  {
   "cell_type": "code",
   "execution_count": 15,
   "id": "0f299b87",
   "metadata": {},
   "outputs": [
    {
     "data": {
      "text/plain": [
       "101"
      ]
     },
     "execution_count": 15,
     "metadata": {},
     "output_type": "execute_result"
    }
   ],
   "source": [
    "# 聚类簇个数\n",
    "len(result.groupby('cluster').count())-1"
   ]
  },
  {
   "cell_type": "code",
   "execution_count": 16,
   "id": "1cda2a3b",
   "metadata": {},
   "outputs": [],
   "source": [
    "result.to_csv(r'.\\result\\Cluster_result_4_1-7.csv',index = False)"
   ]
  },
  {
   "cell_type": "code",
   "execution_count": 13,
   "id": "a76a7bc2",
   "metadata": {},
   "outputs": [
    {
     "name": "stdout",
     "output_type": "stream",
     "text": [
      "(65332, 4)\n"
     ]
    },
    {
     "data": {
      "text/html": [
       "<div>\n",
       "<style scoped>\n",
       "    .dataframe tbody tr th:only-of-type {\n",
       "        vertical-align: middle;\n",
       "    }\n",
       "\n",
       "    .dataframe tbody tr th {\n",
       "        vertical-align: top;\n",
       "    }\n",
       "\n",
       "    .dataframe thead th {\n",
       "        text-align: right;\n",
       "    }\n",
       "</style>\n",
       "<table border=\"1\" class=\"dataframe\">\n",
       "  <thead>\n",
       "    <tr style=\"text-align: right;\">\n",
       "      <th></th>\n",
       "      <th>lon</th>\n",
       "      <th>lat</th>\n",
       "      <th>time</th>\n",
       "      <th>cluster</th>\n",
       "    </tr>\n",
       "  </thead>\n",
       "  <tbody>\n",
       "    <tr>\n",
       "      <th>0</th>\n",
       "      <td>41.145210</td>\n",
       "      <td>-8.610633</td>\n",
       "      <td>2014-04-01 00:01:31</td>\n",
       "      <td>1</td>\n",
       "    </tr>\n",
       "    <tr>\n",
       "      <th>1</th>\n",
       "      <td>41.169780</td>\n",
       "      <td>-8.589258</td>\n",
       "      <td>2014-04-01 00:01:32</td>\n",
       "      <td>-1</td>\n",
       "    </tr>\n",
       "    <tr>\n",
       "      <th>2</th>\n",
       "      <td>41.145183</td>\n",
       "      <td>-8.610570</td>\n",
       "      <td>2014-04-01 00:01:53</td>\n",
       "      <td>1</td>\n",
       "    </tr>\n",
       "    <tr>\n",
       "      <th>3</th>\n",
       "      <td>41.182713</td>\n",
       "      <td>-8.600040</td>\n",
       "      <td>2014-04-01 00:02:02</td>\n",
       "      <td>-1</td>\n",
       "    </tr>\n",
       "    <tr>\n",
       "      <th>4</th>\n",
       "      <td>41.157414</td>\n",
       "      <td>-8.628516</td>\n",
       "      <td>2014-04-01 00:02:07</td>\n",
       "      <td>2</td>\n",
       "    </tr>\n",
       "  </tbody>\n",
       "</table>\n",
       "</div>"
      ],
      "text/plain": [
       "         lon       lat                 time  cluster\n",
       "0  41.145210 -8.610633  2014-04-01 00:01:31        1\n",
       "1  41.169780 -8.589258  2014-04-01 00:01:32       -1\n",
       "2  41.145183 -8.610570  2014-04-01 00:01:53        1\n",
       "3  41.182713 -8.600040  2014-04-01 00:02:02       -1\n",
       "4  41.157414 -8.628516  2014-04-01 00:02:07        2"
      ]
     },
     "execution_count": 13,
     "metadata": {},
     "output_type": "execute_result"
    }
   ],
   "source": [
    "df = pd.read_csv(r'.\\result\\Cluster_result_4_1-7.csv',index_col = False)\n",
    "print(df.shape)\n",
    "df.head()"
   ]
  },
  {
   "cell_type": "code",
   "execution_count": 14,
   "id": "6f018faa",
   "metadata": {},
   "outputs": [
    {
     "name": "stdout",
     "output_type": "stream",
     "text": [
      "有用点数约为26.58%\n"
     ]
    }
   ],
   "source": [
    "rate = 1-df[df['cluster'] == -1].count().values[0]/df.shape[0]\n",
    "print('有用点数约为{:.2f}%'.format(rate*100))"
   ]
  },
  {
   "cell_type": "code",
   "execution_count": 12,
   "id": "c188d1c9",
   "metadata": {},
   "outputs": [
    {
     "data": {
      "text/plain": [
       "0.29613359456315436"
      ]
     },
     "execution_count": 12,
     "metadata": {},
     "output_type": "execute_result"
    }
   ],
   "source": []
  },
  {
   "cell_type": "code",
   "execution_count": 11,
   "id": "e604d564",
   "metadata": {},
   "outputs": [
    {
     "data": {
      "text/plain": [
       "65332"
      ]
     },
     "execution_count": 11,
     "metadata": {},
     "output_type": "execute_result"
    }
   ],
   "source": []
  },
  {
   "cell_type": "code",
   "execution_count": null,
   "id": "12b3b574",
   "metadata": {},
   "outputs": [],
   "source": []
  }
 ],
 "metadata": {
  "kernelspec": {
   "display_name": "Python 3 (ipykernel)",
   "language": "python",
   "name": "python3"
  },
  "language_info": {
   "codemirror_mode": {
    "name": "ipython",
    "version": 3
   },
   "file_extension": ".py",
   "mimetype": "text/x-python",
   "name": "python",
   "nbconvert_exporter": "python",
   "pygments_lexer": "ipython3",
   "version": "3.9.12"
  }
 },
 "nbformat": 4,
 "nbformat_minor": 5
}

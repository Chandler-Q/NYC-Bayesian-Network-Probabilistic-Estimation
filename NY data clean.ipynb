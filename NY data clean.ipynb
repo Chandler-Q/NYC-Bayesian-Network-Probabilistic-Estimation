{
 "cells": [
  {
   "cell_type": "code",
   "execution_count": 1,
   "id": "3746938d",
   "metadata": {},
   "outputs": [],
   "source": [
    "import numpy as np\n",
    "import pandas as pd\n",
    "import datetime\n",
    "import pyarrow as pa\n",
    "import pyarrow.parquet as pq"
   ]
  },
  {
   "cell_type": "code",
   "execution_count": null,
   "id": "02908faf",
   "metadata": {},
   "outputs": [
    {
     "name": "stdout",
     "output_type": "stream",
     "text": [
      "Index(['id', 'vendor_id', 'pickup_datetime', 'dropoff_datetime',\n",
      "       'passenger_count', 'pickup_longitude', 'pickup_latitude',\n",
      "       'dropoff_longitude', 'dropoff_latitude', 'store_and_fwd_flag',\n",
      "       'trip_duration'],\n",
      "      dtype='object')\n"
     ]
    }
   ],
   "source": [
    "df1 = pd.read_csv(r'.\\data\\NYdata\\train.csv',index_col = False)\n",
    "print(df1.columns)\n",
    "df1['pickup_datetime'] = pd.to_datetime(df1['pickup_datetime'])\n",
    "df1['dropoff_datetime'] = pd.to_datetime(df1['dropoff_datetime'])\n",
    "df1 = df1[df1['pickup_datetime'].dt.month == 6]\n",
    "df1.sort_values(by = 'pickup_datetime',inplace=True)\n",
    "df1.reset_index(drop = True,inplace=True)"
   ]
  },
  {
   "cell_type": "code",
   "execution_count": 3,
   "id": "e9f693e7",
   "metadata": {},
   "outputs": [
    {
     "name": "stdout",
     "output_type": "stream",
     "text": [
      "Index(['VendorID', 'tpep_pickup_datetime', 'tpep_dropoff_datetime',\n",
      "       'passenger_count', 'trip_distance', 'RatecodeID', 'store_and_fwd_flag',\n",
      "       'PULocationID', 'DOLocationID', 'payment_type', 'fare_amount', 'extra',\n",
      "       'mta_tax', 'tip_amount', 'tolls_amount', 'improvement_surcharge',\n",
      "       'total_amount', 'congestion_surcharge', 'airport_fee'],\n",
      "      dtype='object')\n"
     ]
    }
   ],
   "source": [
    "df2 = pq.read_table(r'.\\data\\NYdata\\yellow_tripdata_2016-06.parquet').to_pandas()\n",
    "print(df2.columns)\n",
    "df2['pickup_datetime'] = pd.to_datetime(df2['tpep_pickup_datetime'])\n",
    "df2['dropoff_datetime'] = pd.to_datetime(df2['tpep_dropoff_datetime'])\n",
    "df2.sort_values(by = 'pickup_datetime' ,inplace =True)\n",
    "df2.reset_index(drop = True, inplace = True)\n",
    "df2 = df2[['pickup_datetime','dropoff_datetime','trip_distance','PULocationID','DOLocationID']]"
   ]
  },
  {
   "cell_type": "code",
   "execution_count": 4,
   "id": "1849fe0e",
   "metadata": {},
   "outputs": [],
   "source": [
    "data = pd.merge(df1,df2,on = ['pickup_datetime','dropoff_datetime'],how='left')\n",
    "data.dropna(inplace = True)\n",
    "data['PULocationID'] = data['PULocationID'].astype('int')\n",
    "data['DOLocationID'] = data['DOLocationID'].astype('int')"
   ]
  },
  {
   "cell_type": "code",
   "execution_count": 5,
   "id": "954158b4",
   "metadata": {},
   "outputs": [
    {
     "name": "stdout",
     "output_type": "stream",
     "text": [
      "(235135, 14)\n"
     ]
    }
   ],
   "source": [
    "print(data.shape)\n",
    "data.head(3)\n",
    "data.to_csv(r'.\\data\\NYdata\\data_all.csv')"
   ]
  },
  {
   "cell_type": "markdown",
   "id": "f65011c5",
   "metadata": {},
   "source": [
    "# Pre-processing of data"
   ]
  },
  {
   "cell_type": "code",
   "execution_count": 2,
   "id": "cdcc8dba",
   "metadata": {},
   "outputs": [],
   "source": [
    "data = pd.read_csv(r'.\\data\\NYdata\\data_all.csv',index_col = False)\n",
    "data['pickup_datetime'] = pd.to_datetime(data['pickup_datetime'])\n",
    "data['dropoff_datetime'] = pd.to_datetime(data['dropoff_datetime'])\n",
    "data['time_period'] = data['pickup_datetime'].dt.hour\n",
    "data['day_off'] = data['pickup_datetime'].dt.weekday.apply(lambda x: 0 if x<=4 else 1)\n",
    "data['average_velocity'] = data.apply(lambda x:int(round(x['trip_distance']*1000/x['trip_duration'],0)),axis=1)"
   ]
  },
  {
   "cell_type": "code",
   "execution_count": 3,
   "id": "c4e69cf7",
   "metadata": {},
   "outputs": [
    {
     "data": {
      "text/html": [
       "<div>\n",
       "<style scoped>\n",
       "    .dataframe tbody tr th:only-of-type {\n",
       "        vertical-align: middle;\n",
       "    }\n",
       "\n",
       "    .dataframe tbody tr th {\n",
       "        vertical-align: top;\n",
       "    }\n",
       "\n",
       "    .dataframe thead th {\n",
       "        text-align: right;\n",
       "    }\n",
       "</style>\n",
       "<table border=\"1\" class=\"dataframe\">\n",
       "  <thead>\n",
       "    <tr style=\"text-align: right;\">\n",
       "      <th></th>\n",
       "      <th>Unnamed: 0</th>\n",
       "      <th>id</th>\n",
       "      <th>vendor_id</th>\n",
       "      <th>pickup_datetime</th>\n",
       "      <th>dropoff_datetime</th>\n",
       "      <th>passenger_count</th>\n",
       "      <th>pickup_longitude</th>\n",
       "      <th>pickup_latitude</th>\n",
       "      <th>dropoff_longitude</th>\n",
       "      <th>dropoff_latitude</th>\n",
       "      <th>store_and_fwd_flag</th>\n",
       "      <th>trip_duration</th>\n",
       "      <th>trip_distance</th>\n",
       "      <th>PULocationID</th>\n",
       "      <th>DOLocationID</th>\n",
       "      <th>time_period</th>\n",
       "      <th>day_off</th>\n",
       "      <th>average_velocity</th>\n",
       "    </tr>\n",
       "  </thead>\n",
       "  <tbody>\n",
       "    <tr>\n",
       "      <th>0</th>\n",
       "      <td>0</td>\n",
       "      <td>id0771174</td>\n",
       "      <td>1</td>\n",
       "      <td>2016-06-01 00:00:13</td>\n",
       "      <td>2016-06-01 00:07:27</td>\n",
       "      <td>2</td>\n",
       "      <td>-73.988297</td>\n",
       "      <td>40.738724</td>\n",
       "      <td>-73.973373</td>\n",
       "      <td>40.748798</td>\n",
       "      <td>N</td>\n",
       "      <td>434</td>\n",
       "      <td>1.30</td>\n",
       "      <td>234</td>\n",
       "      <td>233</td>\n",
       "      <td>0</td>\n",
       "      <td>0</td>\n",
       "      <td>3</td>\n",
       "    </tr>\n",
       "    <tr>\n",
       "      <th>1</th>\n",
       "      <td>1</td>\n",
       "      <td>id0298113</td>\n",
       "      <td>2</td>\n",
       "      <td>2016-06-01 00:00:20</td>\n",
       "      <td>2016-06-01 00:12:17</td>\n",
       "      <td>1</td>\n",
       "      <td>-73.995468</td>\n",
       "      <td>40.717178</td>\n",
       "      <td>-73.976837</td>\n",
       "      <td>40.752090</td>\n",
       "      <td>N</td>\n",
       "      <td>717</td>\n",
       "      <td>2.78</td>\n",
       "      <td>148</td>\n",
       "      <td>162</td>\n",
       "      <td>0</td>\n",
       "      <td>0</td>\n",
       "      <td>4</td>\n",
       "    </tr>\n",
       "    <tr>\n",
       "      <th>2</th>\n",
       "      <td>2</td>\n",
       "      <td>id3971468</td>\n",
       "      <td>2</td>\n",
       "      <td>2016-06-01 00:00:20</td>\n",
       "      <td>2016-06-01 00:18:05</td>\n",
       "      <td>3</td>\n",
       "      <td>-74.007919</td>\n",
       "      <td>40.740410</td>\n",
       "      <td>-73.972733</td>\n",
       "      <td>40.755322</td>\n",
       "      <td>N</td>\n",
       "      <td>1065</td>\n",
       "      <td>3.07</td>\n",
       "      <td>158</td>\n",
       "      <td>162</td>\n",
       "      <td>0</td>\n",
       "      <td>0</td>\n",
       "      <td>3</td>\n",
       "    </tr>\n",
       "    <tr>\n",
       "      <th>3</th>\n",
       "      <td>3</td>\n",
       "      <td>id0233215</td>\n",
       "      <td>1</td>\n",
       "      <td>2016-06-01 00:00:38</td>\n",
       "      <td>2016-06-01 00:20:00</td>\n",
       "      <td>1</td>\n",
       "      <td>-73.870758</td>\n",
       "      <td>40.773689</td>\n",
       "      <td>-73.952774</td>\n",
       "      <td>40.823425</td>\n",
       "      <td>N</td>\n",
       "      <td>1162</td>\n",
       "      <td>7.90</td>\n",
       "      <td>138</td>\n",
       "      <td>116</td>\n",
       "      <td>0</td>\n",
       "      <td>0</td>\n",
       "      <td>7</td>\n",
       "    </tr>\n",
       "    <tr>\n",
       "      <th>4</th>\n",
       "      <td>4</td>\n",
       "      <td>id1103879</td>\n",
       "      <td>1</td>\n",
       "      <td>2016-06-01 00:00:42</td>\n",
       "      <td>2016-06-01 00:12:31</td>\n",
       "      <td>1</td>\n",
       "      <td>-73.974464</td>\n",
       "      <td>40.793457</td>\n",
       "      <td>-73.978943</td>\n",
       "      <td>40.761196</td>\n",
       "      <td>N</td>\n",
       "      <td>709</td>\n",
       "      <td>2.40</td>\n",
       "      <td>238</td>\n",
       "      <td>161</td>\n",
       "      <td>0</td>\n",
       "      <td>0</td>\n",
       "      <td>3</td>\n",
       "    </tr>\n",
       "  </tbody>\n",
       "</table>\n",
       "</div>"
      ],
      "text/plain": [
       "   Unnamed: 0         id  vendor_id     pickup_datetime    dropoff_datetime  \\\n",
       "0           0  id0771174          1 2016-06-01 00:00:13 2016-06-01 00:07:27   \n",
       "1           1  id0298113          2 2016-06-01 00:00:20 2016-06-01 00:12:17   \n",
       "2           2  id3971468          2 2016-06-01 00:00:20 2016-06-01 00:18:05   \n",
       "3           3  id0233215          1 2016-06-01 00:00:38 2016-06-01 00:20:00   \n",
       "4           4  id1103879          1 2016-06-01 00:00:42 2016-06-01 00:12:31   \n",
       "\n",
       "   passenger_count  pickup_longitude  pickup_latitude  dropoff_longitude  \\\n",
       "0                2        -73.988297        40.738724         -73.973373   \n",
       "1                1        -73.995468        40.717178         -73.976837   \n",
       "2                3        -74.007919        40.740410         -73.972733   \n",
       "3                1        -73.870758        40.773689         -73.952774   \n",
       "4                1        -73.974464        40.793457         -73.978943   \n",
       "\n",
       "   dropoff_latitude store_and_fwd_flag  trip_duration  trip_distance  \\\n",
       "0         40.748798                  N            434           1.30   \n",
       "1         40.752090                  N            717           2.78   \n",
       "2         40.755322                  N           1065           3.07   \n",
       "3         40.823425                  N           1162           7.90   \n",
       "4         40.761196                  N            709           2.40   \n",
       "\n",
       "   PULocationID  DOLocationID  time_period  day_off  average_velocity  \n",
       "0           234           233            0        0                 3  \n",
       "1           148           162            0        0                 4  \n",
       "2           158           162            0        0                 3  \n",
       "3           138           116            0        0                 7  \n",
       "4           238           161            0        0                 3  "
      ]
     },
     "execution_count": 3,
     "metadata": {},
     "output_type": "execute_result"
    }
   ],
   "source": [
    "data.head()"
   ]
  },
  {
   "cell_type": "code",
   "execution_count": null,
   "id": "e339cc16",
   "metadata": {},
   "outputs": [],
   "source": []
  },
  {
   "cell_type": "code",
   "execution_count": 28,
   "id": "e44abe66",
   "metadata": {},
   "outputs": [],
   "source": [
    "data = data[data['pickup_datetime'].dt.day <= 7]\n",
    "cluster_data = pd.concat([data[['pickup_datetime','pickup_longitude','pickup_latitude']],\n",
    "                        data[['pickup_datetime','pickup_longitude','pickup_latitude']]],\n",
    "                         ignore_index=True)\n",
    "cluster_data.columns = ['time','lon','lat']"
   ]
  },
  {
   "cell_type": "code",
   "execution_count": 5,
   "id": "6ed4aea2",
   "metadata": {},
   "outputs": [
    {
     "data": {
      "text/html": [
       "<div>\n",
       "<style scoped>\n",
       "    .dataframe tbody tr th:only-of-type {\n",
       "        vertical-align: middle;\n",
       "    }\n",
       "\n",
       "    .dataframe tbody tr th {\n",
       "        vertical-align: top;\n",
       "    }\n",
       "\n",
       "    .dataframe thead th {\n",
       "        text-align: right;\n",
       "    }\n",
       "</style>\n",
       "<table border=\"1\" class=\"dataframe\">\n",
       "  <thead>\n",
       "    <tr style=\"text-align: right;\">\n",
       "      <th></th>\n",
       "      <th>time</th>\n",
       "      <th>lon</th>\n",
       "      <th>lat</th>\n",
       "    </tr>\n",
       "  </thead>\n",
       "  <tbody>\n",
       "    <tr>\n",
       "      <th>0</th>\n",
       "      <td>2016-06-01 00:00:13</td>\n",
       "      <td>-73.988297</td>\n",
       "      <td>40.738724</td>\n",
       "    </tr>\n",
       "    <tr>\n",
       "      <th>1</th>\n",
       "      <td>2016-06-01 00:00:20</td>\n",
       "      <td>-73.995468</td>\n",
       "      <td>40.717178</td>\n",
       "    </tr>\n",
       "    <tr>\n",
       "      <th>2</th>\n",
       "      <td>2016-06-01 00:00:20</td>\n",
       "      <td>-74.007919</td>\n",
       "      <td>40.740410</td>\n",
       "    </tr>\n",
       "    <tr>\n",
       "      <th>3</th>\n",
       "      <td>2016-06-01 00:00:38</td>\n",
       "      <td>-73.870758</td>\n",
       "      <td>40.773689</td>\n",
       "    </tr>\n",
       "    <tr>\n",
       "      <th>4</th>\n",
       "      <td>2016-06-01 00:00:42</td>\n",
       "      <td>-73.974464</td>\n",
       "      <td>40.793457</td>\n",
       "    </tr>\n",
       "    <tr>\n",
       "      <th>...</th>\n",
       "      <td>...</td>\n",
       "      <td>...</td>\n",
       "      <td>...</td>\n",
       "    </tr>\n",
       "    <tr>\n",
       "      <th>113033</th>\n",
       "      <td>2016-06-07 23:59:17</td>\n",
       "      <td>-73.989235</td>\n",
       "      <td>40.769337</td>\n",
       "    </tr>\n",
       "    <tr>\n",
       "      <th>113034</th>\n",
       "      <td>2016-06-07 23:59:26</td>\n",
       "      <td>-74.003181</td>\n",
       "      <td>40.743252</td>\n",
       "    </tr>\n",
       "    <tr>\n",
       "      <th>113035</th>\n",
       "      <td>2016-06-07 23:59:35</td>\n",
       "      <td>-73.988708</td>\n",
       "      <td>40.736645</td>\n",
       "    </tr>\n",
       "    <tr>\n",
       "      <th>113036</th>\n",
       "      <td>2016-06-07 23:59:40</td>\n",
       "      <td>-73.972244</td>\n",
       "      <td>40.749985</td>\n",
       "    </tr>\n",
       "    <tr>\n",
       "      <th>113037</th>\n",
       "      <td>2016-06-07 23:59:46</td>\n",
       "      <td>-74.007790</td>\n",
       "      <td>40.740540</td>\n",
       "    </tr>\n",
       "  </tbody>\n",
       "</table>\n",
       "<p>113038 rows × 3 columns</p>\n",
       "</div>"
      ],
      "text/plain": [
       "                      time        lon        lat\n",
       "0      2016-06-01 00:00:13 -73.988297  40.738724\n",
       "1      2016-06-01 00:00:20 -73.995468  40.717178\n",
       "2      2016-06-01 00:00:20 -74.007919  40.740410\n",
       "3      2016-06-01 00:00:38 -73.870758  40.773689\n",
       "4      2016-06-01 00:00:42 -73.974464  40.793457\n",
       "...                    ...        ...        ...\n",
       "113033 2016-06-07 23:59:17 -73.989235  40.769337\n",
       "113034 2016-06-07 23:59:26 -74.003181  40.743252\n",
       "113035 2016-06-07 23:59:35 -73.988708  40.736645\n",
       "113036 2016-06-07 23:59:40 -73.972244  40.749985\n",
       "113037 2016-06-07 23:59:46 -74.007790  40.740540\n",
       "\n",
       "[113038 rows x 3 columns]"
      ]
     },
     "execution_count": 5,
     "metadata": {},
     "output_type": "execute_result"
    }
   ],
   "source": [
    "cluster_data"
   ]
  },
  {
   "cell_type": "markdown",
   "id": "43f6f991",
   "metadata": {},
   "source": [
    "# ST-DBSCAN"
   ]
  },
  {
   "cell_type": "code",
   "execution_count": 6,
   "id": "cd7cce07",
   "metadata": {},
   "outputs": [],
   "source": [
    "from stdbscan import STDBSCAN\n",
    "import warnings\n",
    "warnings.filterwarnings(\"ignore\")"
   ]
  },
  {
   "cell_type": "code",
   "execution_count": 29,
   "id": "3f87b1bf",
   "metadata": {},
   "outputs": [
    {
     "name": "stdout",
     "output_type": "stream",
     "text": [
      "Clustering 进度: 113038/113038"
     ]
    }
   ],
   "source": [
    "model = STDBSCAN(spatial_threshold=0.008, temporal_threshold=3600, # 0.003 7200 10\n",
    "                 min_neighbors=40, progress_bar = True)\n",
    "result = model.fit_transform(cluster_data, 'lat', 'lon', 'time')"
   ]
  },
  {
   "cell_type": "code",
   "execution_count": 30,
   "id": "0cdbacbc",
   "metadata": {},
   "outputs": [
    {
     "name": "stdout",
     "output_type": "stream",
     "text": [
      "共有坐标点113038个，其中噪声点10990个，噪声比9.722394239105434%\n",
      "有效分类簇个数为47个\n"
     ]
    }
   ],
   "source": [
    "result.groupby('cluster').count()\n",
    "print('共有坐标点{}个，其中噪声点{}个，噪声比{}%'.format(len(result),\n",
    "                                       len(result[result['cluster']==-1]),\n",
    "                                          len(result[result['cluster'] == -1])/len(result)*100))\n",
    "print('有效分类簇个数为{}个'.format(max(result['cluster'])))"
   ]
  },
  {
   "cell_type": "code",
   "execution_count": 31,
   "id": "7b7af272",
   "metadata": {},
   "outputs": [],
   "source": [
    "result.to_csv(r'.\\result\\NY_Cluster_result_4_1-7.csv',index = False)"
   ]
  },
  {
   "cell_type": "code",
   "execution_count": 29,
   "id": "f148aa6f",
   "metadata": {},
   "outputs": [
    {
     "name": "stdout",
     "output_type": "stream",
     "text": [
      "113038 56519\n"
     ]
    },
    {
     "data": {
      "text/html": [
       "<div>\n",
       "<style scoped>\n",
       "    .dataframe tbody tr th:only-of-type {\n",
       "        vertical-align: middle;\n",
       "    }\n",
       "\n",
       "    .dataframe tbody tr th {\n",
       "        vertical-align: top;\n",
       "    }\n",
       "\n",
       "    .dataframe thead th {\n",
       "        text-align: right;\n",
       "    }\n",
       "</style>\n",
       "<table border=\"1\" class=\"dataframe\">\n",
       "  <thead>\n",
       "    <tr style=\"text-align: right;\">\n",
       "      <th></th>\n",
       "      <th>index</th>\n",
       "      <th>Unnamed: 0</th>\n",
       "      <th>id</th>\n",
       "      <th>vendor_id</th>\n",
       "      <th>pickup_datetime</th>\n",
       "      <th>dropoff_datetime</th>\n",
       "      <th>passenger_count</th>\n",
       "      <th>pickup_longitude</th>\n",
       "      <th>pickup_latitude</th>\n",
       "      <th>dropoff_longitude</th>\n",
       "      <th>...</th>\n",
       "      <th>store_and_fwd_flag</th>\n",
       "      <th>trip_duration</th>\n",
       "      <th>trip_distance</th>\n",
       "      <th>PULocationID</th>\n",
       "      <th>DOLocationID</th>\n",
       "      <th>time_period</th>\n",
       "      <th>day_off</th>\n",
       "      <th>average_velocity</th>\n",
       "      <th>start_cluster</th>\n",
       "      <th>end_cluster</th>\n",
       "    </tr>\n",
       "  </thead>\n",
       "  <tbody>\n",
       "    <tr>\n",
       "      <th>0</th>\n",
       "      <td>0</td>\n",
       "      <td>0</td>\n",
       "      <td>id0771174</td>\n",
       "      <td>1</td>\n",
       "      <td>2016-06-01 00:00:13</td>\n",
       "      <td>2016-06-01 00:07:27</td>\n",
       "      <td>2</td>\n",
       "      <td>-73.988297</td>\n",
       "      <td>40.738724</td>\n",
       "      <td>-73.973373</td>\n",
       "      <td>...</td>\n",
       "      <td>N</td>\n",
       "      <td>434</td>\n",
       "      <td>1.30</td>\n",
       "      <td>234</td>\n",
       "      <td>233</td>\n",
       "      <td>0</td>\n",
       "      <td>0</td>\n",
       "      <td>3</td>\n",
       "      <td>1</td>\n",
       "      <td>1</td>\n",
       "    </tr>\n",
       "    <tr>\n",
       "      <th>1</th>\n",
       "      <td>1</td>\n",
       "      <td>1</td>\n",
       "      <td>id0298113</td>\n",
       "      <td>2</td>\n",
       "      <td>2016-06-01 00:00:20</td>\n",
       "      <td>2016-06-01 00:12:17</td>\n",
       "      <td>1</td>\n",
       "      <td>-73.995468</td>\n",
       "      <td>40.717178</td>\n",
       "      <td>-73.976837</td>\n",
       "      <td>...</td>\n",
       "      <td>N</td>\n",
       "      <td>717</td>\n",
       "      <td>2.78</td>\n",
       "      <td>148</td>\n",
       "      <td>162</td>\n",
       "      <td>0</td>\n",
       "      <td>0</td>\n",
       "      <td>4</td>\n",
       "      <td>2</td>\n",
       "      <td>2</td>\n",
       "    </tr>\n",
       "    <tr>\n",
       "      <th>2</th>\n",
       "      <td>6</td>\n",
       "      <td>6</td>\n",
       "      <td>id3525943</td>\n",
       "      <td>2</td>\n",
       "      <td>2016-06-01 00:01:01</td>\n",
       "      <td>2016-06-01 00:09:28</td>\n",
       "      <td>1</td>\n",
       "      <td>-73.978027</td>\n",
       "      <td>40.766529</td>\n",
       "      <td>-73.951363</td>\n",
       "      <td>...</td>\n",
       "      <td>N</td>\n",
       "      <td>507</td>\n",
       "      <td>2.16</td>\n",
       "      <td>43</td>\n",
       "      <td>263</td>\n",
       "      <td>0</td>\n",
       "      <td>0</td>\n",
       "      <td>4</td>\n",
       "      <td>1</td>\n",
       "      <td>1</td>\n",
       "    </tr>\n",
       "    <tr>\n",
       "      <th>3</th>\n",
       "      <td>9</td>\n",
       "      <td>9</td>\n",
       "      <td>id2804843</td>\n",
       "      <td>1</td>\n",
       "      <td>2016-06-01 00:01:21</td>\n",
       "      <td>2016-06-01 00:17:42</td>\n",
       "      <td>1</td>\n",
       "      <td>-73.965240</td>\n",
       "      <td>40.759319</td>\n",
       "      <td>-74.017265</td>\n",
       "      <td>...</td>\n",
       "      <td>N</td>\n",
       "      <td>981</td>\n",
       "      <td>6.50</td>\n",
       "      <td>229</td>\n",
       "      <td>13</td>\n",
       "      <td>0</td>\n",
       "      <td>0</td>\n",
       "      <td>7</td>\n",
       "      <td>1</td>\n",
       "      <td>1</td>\n",
       "    </tr>\n",
       "    <tr>\n",
       "      <th>4</th>\n",
       "      <td>10</td>\n",
       "      <td>10</td>\n",
       "      <td>id1473577</td>\n",
       "      <td>1</td>\n",
       "      <td>2016-06-01 00:02:49</td>\n",
       "      <td>2016-06-01 00:10:48</td>\n",
       "      <td>1</td>\n",
       "      <td>-73.987358</td>\n",
       "      <td>40.738941</td>\n",
       "      <td>-73.982765</td>\n",
       "      <td>...</td>\n",
       "      <td>N</td>\n",
       "      <td>479</td>\n",
       "      <td>1.50</td>\n",
       "      <td>234</td>\n",
       "      <td>4</td>\n",
       "      <td>0</td>\n",
       "      <td>0</td>\n",
       "      <td>3</td>\n",
       "      <td>1</td>\n",
       "      <td>1</td>\n",
       "    </tr>\n",
       "  </tbody>\n",
       "</table>\n",
       "<p>5 rows × 21 columns</p>\n",
       "</div>"
      ],
      "text/plain": [
       "   index  Unnamed: 0         id  vendor_id     pickup_datetime  \\\n",
       "0      0           0  id0771174          1 2016-06-01 00:00:13   \n",
       "1      1           1  id0298113          2 2016-06-01 00:00:20   \n",
       "2      6           6  id3525943          2 2016-06-01 00:01:01   \n",
       "3      9           9  id2804843          1 2016-06-01 00:01:21   \n",
       "4     10          10  id1473577          1 2016-06-01 00:02:49   \n",
       "\n",
       "     dropoff_datetime  passenger_count  pickup_longitude  pickup_latitude  \\\n",
       "0 2016-06-01 00:07:27                2        -73.988297        40.738724   \n",
       "1 2016-06-01 00:12:17                1        -73.995468        40.717178   \n",
       "2 2016-06-01 00:09:28                1        -73.978027        40.766529   \n",
       "3 2016-06-01 00:17:42                1        -73.965240        40.759319   \n",
       "4 2016-06-01 00:10:48                1        -73.987358        40.738941   \n",
       "\n",
       "   dropoff_longitude  ...  store_and_fwd_flag trip_duration  trip_distance  \\\n",
       "0         -73.973373  ...                   N           434           1.30   \n",
       "1         -73.976837  ...                   N           717           2.78   \n",
       "2         -73.951363  ...                   N           507           2.16   \n",
       "3         -74.017265  ...                   N           981           6.50   \n",
       "4         -73.982765  ...                   N           479           1.50   \n",
       "\n",
       "   PULocationID  DOLocationID  time_period  day_off  average_velocity  \\\n",
       "0           234           233            0        0                 3   \n",
       "1           148           162            0        0                 4   \n",
       "2            43           263            0        0                 4   \n",
       "3           229            13            0        0                 7   \n",
       "4           234             4            0        0                 3   \n",
       "\n",
       "   start_cluster  end_cluster  \n",
       "0              1            1  \n",
       "1              2            2  \n",
       "2              1            1  \n",
       "3              1            1  \n",
       "4              1            1  \n",
       "\n",
       "[5 rows x 21 columns]"
      ]
     },
     "execution_count": 29,
     "metadata": {},
     "output_type": "execute_result"
    }
   ],
   "source": [
    "result = pd.read_csv(r'.\\result\\NY_Cluster_result_4_1-7.csv')\n",
    "print(result.shape[0],data.shape[0])\n",
    "data['start_cluster'] = result.loc[0:len(data)-1,'cluster'].copy().values\n",
    "data['end_cluster'] = result.loc[len(data):,'cluster'].copy().values\n",
    "data = data[(data['start_cluster'] != -1) | (data['end_cluster']!=-1)]\n",
    "data.reset_index(inplace = True)\n",
    "data.head()"
   ]
  },
  {
   "cell_type": "code",
   "execution_count": 34,
   "id": "eb9218c0",
   "metadata": {},
   "outputs": [],
   "source": [
    "record = pd.DataFrame(index=[x for x in range(1,266)],columns=['PULocationID Count','DOLocationID Count'])\n",
    "record.iloc[:] = 0\n",
    "\n",
    "for i in range(len(data)):\n",
    "    row = data.loc[i,'PULocationID']\n",
    "    col = data.loc[i,'DOLocationID']\n",
    "    if row>0:\n",
    "        record.loc[row,'PULocationID Count'] += 1\n",
    "    if col>0:\n",
    "        record.loc[col,'DOLocationID Count'] += 1"
   ]
  },
  {
   "cell_type": "code",
   "execution_count": 10,
   "id": "6061667e",
   "metadata": {},
   "outputs": [
    {
     "data": {
      "text/plain": [
       "array([ 1,  2, -1, ..., 42, 42, 42], dtype=int64)"
      ]
     },
     "execution_count": 10,
     "metadata": {},
     "output_type": "execute_result"
    }
   ],
   "source": []
  },
  {
   "cell_type": "code",
   "execution_count": 23,
   "id": "b27e722a",
   "metadata": {},
   "outputs": [
    {
     "name": "stdout",
     "output_type": "stream",
     "text": [
      "==================================================\n",
      "total number of clusters: 229\n",
      "the number of pick-up AOIs: 66\n",
      "the number of drop-off AOIs: 229\n"
     ]
    }
   ],
   "source": [
    "start_clusters = list(data['PULocationID'].copy().sort_values().drop_duplicates())\n",
    "end_clusters = list(data['DOLocationID'].copy().sort_values().drop_duplicates())\n",
    "AOIs_ID = []\n",
    "for i in start_clusters:\n",
    "    if (i not in AOIs_ID):\n",
    "        AOIs_ID.append(i)\n",
    "for j in end_clusters:\n",
    "    if (j not in AOIs_ID):\n",
    "        AOIs_ID.append(j)\n",
    "\n",
    "print('='*50)\n",
    "print('total number of clusters:',len(AOIs_ID))\n",
    "print('the number of pick-up AOIs:',len(start_clusters))\n",
    "print('the number of drop-off AOIs:',len(end_clusters))"
   ]
  },
  {
   "cell_type": "markdown",
   "id": "dd767b60",
   "metadata": {},
   "source": [
    "# Bayesian Network"
   ]
  },
  {
   "cell_type": "code",
   "execution_count": 3,
   "id": "c733ef8e",
   "metadata": {},
   "outputs": [],
   "source": [
    "from pgmpy.models import BayesianNetwork\n",
    "from pgmpy.estimators import BayesianEstimator\n",
    "from pgmpy.estimators import HillClimbSearch, BDeuScore,K2Score\n",
    "from pgmpy.metrics import structure_score\n",
    "BN_data = data.loc[:,['PULocationID','DOLocationID','day_off','time_period','average_velocity']]\n",
    "BN_data = BN_data[BN_data['average_velocity']<=18]"
   ]
  },
  {
   "cell_type": "code",
   "execution_count": 5,
   "id": "37432ec1",
   "metadata": {},
   "outputs": [
    {
     "data": {
      "application/vnd.jupyter.widget-view+json": {
       "model_id": "46886e3487bb441191f59ef444e6953c",
       "version_major": 2,
       "version_minor": 0
      },
      "text/plain": [
       "  0%|          | 0/1000000 [00:00<?, ?it/s]"
      ]
     },
     "metadata": {},
     "output_type": "display_data"
    }
   ],
   "source": [
    "# Structure Learning by \n",
    "est = HillClimbSearch(BN_data)\n",
    "BN = est.estimate(scoring_method=BDeuScore(BN_data),fixed_edges = [('PULocationID','DOLocationID')])"
   ]
  },
  {
   "cell_type": "code",
   "execution_count": 10,
   "id": "242b2ff1",
   "metadata": {},
   "outputs": [
    {
     "data": {
      "text/plain": [
       "[('DOLocationID', 'average_velocity'),\n",
       " ('PULocationID', 'DOLocationID'),\n",
       " ('average_velocity', 'day_off'),\n",
       " ('average_velocity', 'time_period'),\n",
       " ('day_off', 'time_period')]"
      ]
     },
     "execution_count": 10,
     "metadata": {},
     "output_type": "execute_result"
    }
   ],
   "source": [
    "sorted(BN.edges())"
   ]
  },
  {
   "cell_type": "code",
   "execution_count": 11,
   "id": "94ab896c",
   "metadata": {},
   "outputs": [
    {
     "name": "stdout",
     "output_type": "stream",
     "text": [
      "自定义模型的评分： -4023899.6269931067\n",
      "结构学习最佳模型评分： -3185166.650832804\n"
     ]
    }
   ],
   "source": [
    "model1 =  BayesianNetwork([('PULocationID','DOLocationID'),\n",
    "                      ('time_period','DOLocationID'),\n",
    "                      ('day_off','DOLocationID'),\n",
    "                      ('PULocationID','average_velocity'),\n",
    "                     ('DOLocationID','average_velocity'),\n",
    "                     ('time_period','average_velocity')])\n",
    "model2 = BayesianNetwork([('DOLocationID', 'average_velocity'),\n",
    "                          ('PULocationID', 'DOLocationID'),\n",
    "                          ('average_velocity', 'day_off'),\n",
    "                          ('average_velocity', 'time_period'),\n",
    "                          ('day_off', 'time_period')])\n",
    "print('自定义模型的评分：',structure_score(model1, BN_data, scoring_method=\"k2\"))\n",
    "print('结构学习最佳模型评分：',structure_score(model2, BN_data, scoring_method=\"k2\"))"
   ]
  },
  {
   "cell_type": "code",
   "execution_count": 4,
   "id": "dbeac87d",
   "metadata": {},
   "outputs": [],
   "source": [
    "# set up Model\n",
    "\n",
    "BN = BayesianNetwork([('PULocationID','DOLocationID'),\n",
    "                      ('time_period','DOLocationID'),\n",
    "                      ('day_off','DOLocationID'),\n",
    "                      ('PULocationID','average_velocity'),\n",
    "                     ('DOLocationID','average_velocity'),\n",
    "                     ('time_period','average_velocity')])\n",
    "BN.fit(BN_data)"
   ]
  },
  {
   "cell_type": "code",
   "execution_count": 5,
   "id": "2b24e40c",
   "metadata": {},
   "outputs": [],
   "source": [
    "# estimate CPDS\n",
    "estimator = BayesianEstimator(BN, BN_data)\n",
    "\n",
    "# pseudo_counts为先验信息虚拟count ， 见 estimator.estimate_cpd 的 sample\n",
    "\n",
    "\n",
    "cpd = estimator.estimate_cpd(node='DOLocationID')\n"
   ]
  },
  {
   "cell_type": "code",
   "execution_count": null,
   "id": "b9a3d73b",
   "metadata": {},
   "outputs": [],
   "source": []
  },
  {
   "cell_type": "code",
   "execution_count": 6,
   "id": "68cf5e3c",
   "metadata": {},
   "outputs": [
    {
     "name": "stdout",
     "output_type": "stream",
     "text": [
      "(256, 220, 2, 24)\n",
      "(256, 220, 2, 24)\n"
     ]
    }
   ],
   "source": [
    "# ['end_cluster', 'CALL_TYPE', 'DAY_TYPE', 'TIME_TYPE', 'start_cluster']\n",
    "print(cpd.values.shape)\n",
    "# ['end_cluster', 'CALL_TYPE' , 'TIME_TYPE', 'start_cluster']\n",
    "CPD = np.squeeze(cpd.values)\n",
    "print(CPD.shape)\n",
    "# print(cpd.no_to_name)\n",
    "\n",
    "# 计算不同start_cluster每个时间段的转移\n",
    "def Relative_Probability(CPD,rela_mat = [0,3],normalize = None):\n",
    "    rela_mat.sort()\n",
    "    if len(CPD.shape) < 2:\n",
    "        print(f'输入CPD矩阵维度{CPD.shape}，不等于2！')\n",
    "        return\n",
    "    if len(rela_mat) != 2:\n",
    "        print(f'相对概率的输入索引mat应为[x,y]，为两列')\n",
    "        return\n",
    "    allindex = [i for i in range(len(CPD.shape))]\n",
    "    num = [i for i in allindex if i not in rela_mat]\n",
    "\n",
    "    t = 1\n",
    "    for i in range(len(num)):\n",
    "        t *= CPD.shape[num[i]]\n",
    "\n",
    "    CPD = np.array(CPD)\n",
    "    mat = np.zeros((CPD.shape[rela_mat[0]],CPD.shape[rela_mat[1]]))\n",
    "    for i in range(mat.shape[0]):\n",
    "        for j in range(mat.shape[1]):\n",
    "            temp = CPD.take(indices=i,axis=rela_mat[0])\n",
    "            temp = temp.take(indices=j,axis=rela_mat[1]-1)\n",
    "            mat[i,j] = temp.reshape(1,-1).sum()/t\n",
    "\n",
    "    if normalize==0:\n",
    "        for i in range(len(mat[:,0])):\n",
    "            mat[i,:] = mat[i,:]/mat[i,:].sum()\n",
    "    elif normalize == 1:\n",
    "        for i in range(len(mat[0,:])):\n",
    "            mat[:,i] = mat[:,i]/mat[:,i].sum()\n",
    "    return np.array(mat)\n"
   ]
  },
  {
   "cell_type": "code",
   "execution_count": 115,
   "id": "5c4f64e7",
   "metadata": {},
   "outputs": [],
   "source": []
  },
  {
   "cell_type": "markdown",
   "id": "6e9dd813",
   "metadata": {},
   "source": [
    "# Plot Figures"
   ]
  },
  {
   "cell_type": "code",
   "execution_count": 7,
   "id": "dabc0392",
   "metadata": {},
   "outputs": [],
   "source": [
    "import seaborn as sns\n",
    "import matplotlib.pyplot as plt\n",
    "plt.rcParams['font.sans-serif'] = ['Times New Roman'] "
   ]
  },
  {
   "cell_type": "code",
   "execution_count": 9,
   "id": "5a8c1f7e",
   "metadata": {},
   "outputs": [
    {
     "data": {
      "text/plain": [
       "Text(33.0, 0.5, 'End_Cluster')"
      ]
     },
     "execution_count": 9,
     "metadata": {},
     "output_type": "execute_result"
    },
    {
     "data": {
      "image/png": "[encoded data removed]",
      "text/plain": [
       "<Figure size 432x288 with 2 Axes>"
      ]
     },
     "metadata": {
      "needs_background": "light"
     },
     "output_type": "display_data"
    }
   ],
   "source": [
    "\n",
    "RP = Relative_Probability(CPD,rela_mat = [0,1])\n",
    "sns.heatmap(RP,vmin=0,             #刻度阈值\n",
    "                 vmax=0.1,cmap=\"YlGnBu\")\n",
    "\n",
    "plt.xlabel(\"Start_Cluster\",size=10)\n",
    "plt.ylabel(\"End_Cluster\",size=10)"
   ]
  },
  {
   "cell_type": "code",
   "execution_count": 5,
   "id": "e6084220",
   "metadata": {},
   "outputs": [],
   "source": [
    "names = pd.read_csv(r'.\\data\\NYdata\\yellow_6_1-7_count.csv',index_col=False)\n",
    "names = names.iloc[:,0]\n",
    "names = list(names)\n",
    "np.save('names.npy',names)"
   ]
  },
  {
   "cell_type": "code",
   "execution_count": null,
   "id": "9a1f9eee",
   "metadata": {},
   "outputs": [],
   "source": [
    "nodes = [cpd.name_to_no['PULocationID'][i] for i in names]\n",
    "print(len(names)==len(nodes))"
   ]
  },
  {
   "cell_type": "code",
   "execution_count": 80,
   "id": "504cf383",
   "metadata": {},
   "outputs": [
    {
     "data": {
      "text/plain": [
       "<bound method StateNameMixin.get_state_names of <TabularCPD representing P(DOLocationID:256 | PULocationID:222, day_off:2, time_period:24) at 0x256143e47c0>>"
      ]
     },
     "execution_count": 80,
     "metadata": {},
     "output_type": "execute_result"
    }
   ],
   "source": [
    "P(DOLocationID:256 | PULocationID:222, day_off:2, time_period:24)"
   ]
  },
  {
   "cell_type": "code",
   "execution_count": 9,
   "id": "770b5da1",
   "metadata": {},
   "outputs": [],
   "source": [
    "BN_data = BN_data = data.loc[:,['PULocationID','DOLocationID','day_off','time_period','average_velocity']]\n",
    "def fun(x):\n",
    "    if x <= 3:\n",
    "        return 0\n",
    "    elif (x > 3) and (x <=5):\n",
    "        return 1\n",
    "    elif (x > 5) and (x <=8):\n",
    "        return 2\n",
    "    elif (x > 8) and (x <=10):\n",
    "        return 3\n",
    "    else:\n",
    "        return 4\n",
    "BN_data['average_velocity'] = BN_data['average_velocity'].apply(fun)\n",
    "estimator = BayesianEstimator(BN, BN_data)\n",
    "\n"
   ]
  },
  {
   "cell_type": "code",
   "execution_count": 14,
   "id": "3b79e537",
   "metadata": {},
   "outputs": [
    {
     "name": "stdout",
     "output_type": "stream",
     "text": [
      "[0.73693757 0.26306243]\n",
      "[0.03905847 0.02721871 0.01898107 0.01409036 0.01096457 0.0107817\n",
      " 0.02421199 0.03875652 0.04664119 0.04744496 0.04517823 0.04810414\n",
      " 0.04951607 0.04891643 0.04966492 0.04662843 0.04223105 0.04932895\n",
      " 0.0602501  0.06060733 0.05469596 0.05868933 0.05715832 0.05088121]\n",
      "[0.01176696 0.01594199 0.03566059 0.01151742 0.02818874 0.03462884\n",
      " 0.02122556 0.02130234 0.02818874 0.01883092 0.01568285 0.02654272\n",
      " 0.0137633  0.0309145  0.01969472 0.02606763 0.03053059 0.01152702\n",
      " 0.01338419 0.01737206 0.01512618 0.04042108 0.03808883 0.02984915\n",
      " 0.02774244 0.03711945 0.03837676 0.02171984 0.03488797 0.02236769\n",
      " 0.01540932 0.03739299 0.03943252 0.04339639 0.02101441 0.02817434\n",
      " 0.01751602 0.02478633 0.01443514 0.02001144]\n"
     ]
    }
   ],
   "source": [
    "cpd1 = estimator.estimate_cpd(node='day_off')\n",
    "mat1 = cpd1.values/cpd1.values.sum()\n",
    "cpd2 = estimator.estimate_cpd(node='time_period')\n",
    "mat2 = cpd2.values/cpd2.values.sum()\n",
    "\n",
    "cpd3 = estimator.estimate_cpd(node='PULocationID')\n",
    "nodes = [cpd3.name_to_no['PULocationID'][i] for i in names]\n",
    "mat3 = cpd3.values[nodes]/cpd3.values[nodes].sum()\n",
    "print(mat1)\n",
    "print(mat2)\n",
    "print(mat3)"
   ]
  },
  {
   "cell_type": "code",
   "execution_count": 10,
   "id": "a608e25b",
   "metadata": {},
   "outputs": [],
   "source": [
    "from pgmpy.inference import VariableElimination\n",
    "inference = VariableElimination(BN)"
   ]
  },
  {
   "cell_type": "code",
   "execution_count": 11,
   "id": "0435286f",
   "metadata": {},
   "outputs": [],
   "source": [
    "weekday = inference.query(['PULocationID','time_period'],evidence={'DOLocationID':237,'day_off':0})\n",
    "weekend = inference.query(['PULocationID','time_period'],evidence={'DOLocationID':237,'day_off':1})"
   ]
  },
  {
   "cell_type": "code",
   "execution_count": 44,
   "id": "43625fbe",
   "metadata": {},
   "outputs": [
    {
     "name": "stderr",
     "output_type": "stream",
     "text": [
      "C:\\Windows\\Temp\\ipykernel_15116\\1010023938.py:34: RuntimeWarning: invalid value encountered in true_divide\n",
      "  mat[i,:] = mat[i,:]/mat[i,:].sum()\n"
     ]
    },
    {
     "data": {
      "text/plain": [
       "(220, 24)"
      ]
     },
     "execution_count": 44,
     "metadata": {},
     "output_type": "execute_result"
    }
   ],
   "source": [
    "node1 = [weekday.name_to_no['PULocationID'][i] for i in names]\n",
    "node2 = [weekend.name_to_no['PULocationID'][i] for i in names]\n",
    "Relative_Probability(weekday.values,rela_mat = [0,1],normalize=0).shape"
   ]
  },
  {
   "cell_type": "code",
   "execution_count": 14,
   "id": "1ec310e5",
   "metadata": {},
   "outputs": [
    {
     "data": {
      "text/plain": [
       "0.9999999999999999"
      ]
     },
     "execution_count": 14,
     "metadata": {},
     "output_type": "execute_result"
    }
   ],
   "source": [
    "# 变量消除法推断\n",
    "inference.query(['DOLocationID'], ).values.sum()"
   ]
  },
  {
   "cell_type": "code",
   "execution_count": 57,
   "id": "d9a8bf39",
   "metadata": {},
   "outputs": [
    {
     "data": {
      "image/png": "[encoded data removed]",
      "text/plain": [
       "<Figure size 1296x936 with 4 Axes>"
      ]
     },
     "metadata": {
      "needs_background": "light"
     },
     "output_type": "display_data"
    }
   ],
   "source": [
    "RP = Relative_Probability(weekday.values[node1],rela_mat = [0,1]).T\n",
    "plt.figure(figsize=(18,13))\n",
    "ax = plt.subplot(211)\n",
    "sns.heatmap(RP,vmin=0,             #刻度阈值\n",
    "                 vmax=0.012,cmap=\"YlGnBu\")\n",
    "ax.set_xticklabels(names,rotation = 30,size=12)\n",
    "\n",
    "plt.yticks(size=13)\n",
    "plt.xlabel(\"Pick-Up AOI ID\",size=15)\n",
    "plt.ylabel(\"Time Interval\",size=15)\n",
    "plt.title('Weekday',size = 20)\n",
    "\n",
    "ax = plt.subplot(212)\n",
    "RP = Relative_Probability(weekend.values[node1],rela_mat = [0,1]).T\n",
    "sns.heatmap(RP,vmin=0,             #刻度阈值\n",
    "                 vmax=0.012,cmap=\"YlGnBu\")\n",
    "ax.set_xticklabels(names,rotation = 30,size=12)\n",
    "plt.yticks(size=13)\n",
    "plt.xlabel(\"Pick-Up AOI ID\",size=15)\n",
    "plt.ylabel(\"Time Interval\",size=15)\n",
    "plt.title('Weekend',size = 20)\n",
    "plt.savefig(r'F:\\文献\\taxi-trajectory\\fig1.jpg',dpi=600)"
   ]
  },
  {
   "cell_type": "code",
   "execution_count": 18,
   "id": "6c790a0c",
   "metadata": {},
   "outputs": [
    {
     "name": "stdout",
     "output_type": "stream",
     "text": [
      "<bound method StateNameMixin.store_state_names of <TabularCPD representing P(DOLocationID:256 | PULocationID:220, day_off:2, time_period:24) at 0x1b92e09d430>>\n"
     ]
    }
   ],
   "source": [
    "print(cpd.store_state_names)\n"
   ]
  },
  {
   "cell_type": "markdown",
   "id": "b8b6824c",
   "metadata": {},
   "source": [
    "# Analysis for Velocity"
   ]
  },
  {
   "cell_type": "code",
   "execution_count": 52,
   "id": "a4f68aa5",
   "metadata": {},
   "outputs": [],
   "source": [
    "BN_data = BN_data = data.loc[:,['PULocationID','DOLocationID','day_off','time_period','average_velocity']]\n",
    "def fun(x):\n",
    "    if x <= 3:\n",
    "        return 0\n",
    "    elif (x > 3) and (x <=5):\n",
    "        return 1\n",
    "    elif (x > 5) and (x <=8):\n",
    "        return 2\n",
    "    elif (x > 8) and (x <=10):\n",
    "        return 3\n",
    "    else:\n",
    "        return 4\n",
    "BN_data['average_velocity'] = BN_data['average_velocity'].apply(fun)\n",
    "\n",
    "BN = BayesianNetwork([('PULocationID','DOLocationID'),\n",
    "                      ('time_period','DOLocationID'),\n",
    "                      ('day_off','DOLocationID'),\n",
    "                      ('PULocationID','average_velocity'),\n",
    "                     ('DOLocationID','average_velocity'),\n",
    "                     ('time_period','average_velocity')])\n",
    "BN.fit(BN_data,estimator=BayesianEstimator)\n"
   ]
  },
  {
   "cell_type": "code",
   "execution_count": 25,
   "id": "cfebb27c",
   "metadata": {},
   "outputs": [
    {
     "name": "stdout",
     "output_type": "stream",
     "text": [
      "11.439252537671699\n"
     ]
    },
    {
     "data": {
      "text/plain": [
       "<BarContainer object of 24 artists>"
      ]
     },
     "execution_count": 25,
     "metadata": {},
     "output_type": "execute_result"
    },
    {
     "data": {
      "image/png": "[encoded data removed]",
      "text/plain": [
       "<Figure size 432x288 with 1 Axes>"
      ]
     },
     "metadata": {
      "needs_background": "light"
     },
     "output_type": "display_data"
    }
   ],
   "source": [
    "# 计算 sample node 到哪个时间段概率最高\n",
    "\n",
    "RP = Relative_Probability(CPD[nodes,sample_node,:,:], rela_mat=[0,2])\n",
    "print(RP.sum())\n",
    "RP = RP.sum(axis=0)/RP.sum()\n",
    "plt.bar([i for i in range(len(RP))],RP)\n",
    "\n",
    "# RP_df.to_csv('./result/AOI132_Destination.csv', index=False)"
   ]
  },
  {
   "cell_type": "code",
   "execution_count": 53,
   "id": "29a5487f",
   "metadata": {},
   "outputs": [],
   "source": [
    "predict_data=pd.DataFrame(columns = ['DOLocationID','PULocationID','day_off','time_period'])\n",
    "pre_mat = pd.DataFrame(index = [0,1,2,3,4],columns = names)\n",
    "\n",
    "# AOIs and 速度\n",
    "for i in names:\n",
    "    predict_data.loc[0,:] = [i,132,0,12]\n",
    "    \n",
    "    pre_mat.loc[0:4,i] = BN.predict_probability(predict_data).values.reshape(-1)\n",
    "\n"
   ]
  },
  {
   "cell_type": "code",
   "execution_count": 57,
   "id": "7512afc4",
   "metadata": {},
   "outputs": [],
   "source": [
    "pre_mat.to_csv('./result/AOI132_average_velocity.csv')\n"
   ]
  },
  {
   "cell_type": "code",
   "execution_count": 55,
   "id": "8549e49d",
   "metadata": {},
   "outputs": [
    {
     "data": {
      "text/html": [
       "<div>\n",
       "<style scoped>\n",
       "    .dataframe tbody tr th:only-of-type {\n",
       "        vertical-align: middle;\n",
       "    }\n",
       "\n",
       "    .dataframe tbody tr th {\n",
       "        vertical-align: top;\n",
       "    }\n",
       "\n",
       "    .dataframe thead th {\n",
       "        text-align: right;\n",
       "    }\n",
       "</style>\n",
       "<table border=\"1\" class=\"dataframe\">\n",
       "  <thead>\n",
       "    <tr style=\"text-align: right;\">\n",
       "      <th></th>\n",
       "      <th>13</th>\n",
       "      <th>43</th>\n",
       "      <th>48</th>\n",
       "      <th>50</th>\n",
       "      <th>68</th>\n",
       "      <th>79</th>\n",
       "      <th>90</th>\n",
       "      <th>100</th>\n",
       "      <th>107</th>\n",
       "      <th>113</th>\n",
       "      <th>...</th>\n",
       "      <th>233</th>\n",
       "      <th>234</th>\n",
       "      <th>236</th>\n",
       "      <th>237</th>\n",
       "      <th>238</th>\n",
       "      <th>239</th>\n",
       "      <th>246</th>\n",
       "      <th>249</th>\n",
       "      <th>262</th>\n",
       "      <th>263</th>\n",
       "    </tr>\n",
       "  </thead>\n",
       "  <tbody>\n",
       "    <tr>\n",
       "      <th>0</th>\n",
       "      <td>0.0</td>\n",
       "      <td>0.2</td>\n",
       "      <td>0.0</td>\n",
       "      <td>0.999997</td>\n",
       "      <td>0.000001</td>\n",
       "      <td>0.0</td>\n",
       "      <td>0.000001</td>\n",
       "      <td>0.0</td>\n",
       "      <td>0.0</td>\n",
       "      <td>0.0</td>\n",
       "      <td>...</td>\n",
       "      <td>0.0</td>\n",
       "      <td>0.0</td>\n",
       "      <td>0.0</td>\n",
       "      <td>0.499999</td>\n",
       "      <td>0.2</td>\n",
       "      <td>0.2</td>\n",
       "      <td>0.2</td>\n",
       "      <td>0.000001</td>\n",
       "      <td>0.000001</td>\n",
       "      <td>0.0</td>\n",
       "    </tr>\n",
       "    <tr>\n",
       "      <th>1</th>\n",
       "      <td>0.0</td>\n",
       "      <td>0.2</td>\n",
       "      <td>0.749999</td>\n",
       "      <td>0.000001</td>\n",
       "      <td>0.000001</td>\n",
       "      <td>0.0</td>\n",
       "      <td>0.999997</td>\n",
       "      <td>0.333333</td>\n",
       "      <td>0.0</td>\n",
       "      <td>0.0</td>\n",
       "      <td>...</td>\n",
       "      <td>0.0</td>\n",
       "      <td>0.499999</td>\n",
       "      <td>0.0</td>\n",
       "      <td>0.0</td>\n",
       "      <td>0.2</td>\n",
       "      <td>0.2</td>\n",
       "      <td>0.2</td>\n",
       "      <td>0.999997</td>\n",
       "      <td>0.000001</td>\n",
       "      <td>0.0</td>\n",
       "    </tr>\n",
       "    <tr>\n",
       "      <th>2</th>\n",
       "      <td>0.499999</td>\n",
       "      <td>0.2</td>\n",
       "      <td>0.25</td>\n",
       "      <td>0.000001</td>\n",
       "      <td>0.999997</td>\n",
       "      <td>0.999999</td>\n",
       "      <td>0.000001</td>\n",
       "      <td>0.666666</td>\n",
       "      <td>0.25</td>\n",
       "      <td>0.999999</td>\n",
       "      <td>...</td>\n",
       "      <td>0.999999</td>\n",
       "      <td>0.0</td>\n",
       "      <td>0.999999</td>\n",
       "      <td>0.499999</td>\n",
       "      <td>0.2</td>\n",
       "      <td>0.2</td>\n",
       "      <td>0.2</td>\n",
       "      <td>0.000001</td>\n",
       "      <td>0.999997</td>\n",
       "      <td>0.999999</td>\n",
       "    </tr>\n",
       "    <tr>\n",
       "      <th>3</th>\n",
       "      <td>0.499999</td>\n",
       "      <td>0.2</td>\n",
       "      <td>0.0</td>\n",
       "      <td>0.000001</td>\n",
       "      <td>0.000001</td>\n",
       "      <td>0.0</td>\n",
       "      <td>0.000001</td>\n",
       "      <td>0.0</td>\n",
       "      <td>0.749999</td>\n",
       "      <td>0.0</td>\n",
       "      <td>...</td>\n",
       "      <td>0.0</td>\n",
       "      <td>0.499999</td>\n",
       "      <td>0.0</td>\n",
       "      <td>0.0</td>\n",
       "      <td>0.2</td>\n",
       "      <td>0.2</td>\n",
       "      <td>0.2</td>\n",
       "      <td>0.000001</td>\n",
       "      <td>0.000001</td>\n",
       "      <td>0.0</td>\n",
       "    </tr>\n",
       "    <tr>\n",
       "      <th>4</th>\n",
       "      <td>0.0</td>\n",
       "      <td>0.2</td>\n",
       "      <td>0.0</td>\n",
       "      <td>0.000001</td>\n",
       "      <td>0.000001</td>\n",
       "      <td>0.0</td>\n",
       "      <td>0.000001</td>\n",
       "      <td>0.0</td>\n",
       "      <td>0.0</td>\n",
       "      <td>0.0</td>\n",
       "      <td>...</td>\n",
       "      <td>0.0</td>\n",
       "      <td>0.0</td>\n",
       "      <td>0.0</td>\n",
       "      <td>0.0</td>\n",
       "      <td>0.2</td>\n",
       "      <td>0.2</td>\n",
       "      <td>0.2</td>\n",
       "      <td>0.000001</td>\n",
       "      <td>0.000001</td>\n",
       "      <td>0.0</td>\n",
       "    </tr>\n",
       "  </tbody>\n",
       "</table>\n",
       "<p>5 rows × 40 columns</p>\n",
       "</div>"
      ],
      "text/plain": [
       "        13   43        48        50        68        79        90        100  \\\n",
       "0       0.0  0.2       0.0  0.999997  0.000001       0.0  0.000001       0.0   \n",
       "1       0.0  0.2  0.749999  0.000001  0.000001       0.0  0.999997  0.333333   \n",
       "2  0.499999  0.2      0.25  0.000001  0.999997  0.999999  0.000001  0.666666   \n",
       "3  0.499999  0.2       0.0  0.000001  0.000001       0.0  0.000001       0.0   \n",
       "4       0.0  0.2       0.0  0.000001  0.000001       0.0  0.000001       0.0   \n",
       "\n",
       "        107       113  ...       233       234       236       237  238  239  \\\n",
       "0       0.0       0.0  ...       0.0       0.0       0.0  0.499999  0.2  0.2   \n",
       "1       0.0       0.0  ...       0.0  0.499999       0.0       0.0  0.2  0.2   \n",
       "2      0.25  0.999999  ...  0.999999       0.0  0.999999  0.499999  0.2  0.2   \n",
       "3  0.749999       0.0  ...       0.0  0.499999       0.0       0.0  0.2  0.2   \n",
       "4       0.0       0.0  ...       0.0       0.0       0.0       0.0  0.2  0.2   \n",
       "\n",
       "   246       249       262       263  \n",
       "0  0.2  0.000001  0.000001       0.0  \n",
       "1  0.2  0.999997  0.000001       0.0  \n",
       "2  0.2  0.000001  0.999997  0.999999  \n",
       "3  0.2  0.000001  0.000001       0.0  \n",
       "4  0.2  0.000001  0.000001       0.0  \n",
       "\n",
       "[5 rows x 40 columns]"
      ]
     },
     "execution_count": 55,
     "metadata": {},
     "output_type": "execute_result"
    }
   ],
   "source": [
    "pre_mat"
   ]
  },
  {
   "cell_type": "code",
   "execution_count": 43,
   "id": "c8b46618",
   "metadata": {},
   "outputs": [],
   "source": []
  },
  {
   "cell_type": "code",
   "execution_count": 44,
   "id": "e3c66b15",
   "metadata": {},
   "outputs": [],
   "source": []
  },
  {
   "cell_type": "code",
   "execution_count": 19,
   "id": "cf5ba73f",
   "metadata": {},
   "outputs": [],
   "source": [
    "from pgmpy.inference import VariableElimination\n",
    "from pgmpy.models import BayesianNetwork\n",
    "import numpy as np\n",
    "import pandas as pd\n",
    "values = pd.DataFrame(np.random.randint(low=0, high=2, size=(1000, 5)),\n",
    "                      columns=['A', 'B', 'C', 'D', 'E'])\n",
    "model = BayesianNetwork([('A', 'B'), ('C', 'B'), ('C', 'D'), ('B', 'E')])\n",
    "model.fit(values)\n",
    "inference = VariableElimination(model)\n",
    "phi_query = inference.query(['A', 'B'],evidence=)"
   ]
  },
  {
   "cell_type": "code",
   "execution_count": 22,
   "id": "0ecf2b33",
   "metadata": {},
   "outputs": [
    {
     "name": "stdout",
     "output_type": "stream",
     "text": [
      "+------+------+------------+\n",
      "| A    | B    |   phi(A,B) |\n",
      "+======+======+============+\n",
      "| A(0) | B(0) |     0.2340 |\n",
      "+------+------+------------+\n",
      "| A(0) | B(1) |     0.2690 |\n",
      "+------+------+------------+\n",
      "| A(1) | B(0) |     0.2460 |\n",
      "+------+------+------------+\n",
      "| A(1) | B(1) |     0.2510 |\n",
      "+------+------+------------+\n"
     ]
    }
   ],
   "source": [
    "print(phi_query)"
   ]
  },
  {
   "cell_type": "markdown",
   "id": "91ccdb50",
   "metadata": {},
   "source": [
    "# 地图剪裁"
   ]
  },
  {
   "cell_type": "code",
   "execution_count": 4,
   "id": "ef4d9524",
   "metadata": {},
   "outputs": [
    {
     "name": "stderr",
     "output_type": "stream",
     "text": [
      "C:\\Windows\\Temp\\ipykernel_14020\\33422418.py:8: UserWarning: Geometry is in a geographic CRS. Results from 'centroid' are likely incorrect. Use 'GeoSeries.to_crs()' to re-project geometries to a projected CRS before this operation.\n",
      "\n",
      "  shpdata['centroid'] = shpdata.centroid\n"
     ]
    }
   ],
   "source": [
    "import pandas\n",
    "import pyproj\n",
    "import geopandas as gp\n",
    "\n",
    "shpdata = gp.read_file(r'.\\data\\NYdata\\taxi_zones\\taxi_zones.shx')\n",
    "\n",
    "shpdata = shpdata.to_crs(epsg=4326)\n",
    "shpdata['centroid'] = shpdata.centroid\n",
    "# shpdata.to_file(r'.\\data\\NYdata\\taxi_zones.geojson',driver=\"GeoJSON\", encoding='utf-8')"
   ]
  },
  {
   "cell_type": "code",
   "execution_count": 25,
   "id": "687ee27e",
   "metadata": {},
   "outputs": [],
   "source": [
    "idx = []\n",
    "for i in range(len(shpdata)):\n",
    "    if i+1 not in names:\n",
    "        idx.append(i)"
   ]
  },
  {
   "cell_type": "code",
   "execution_count": 23,
   "id": "2169fe71",
   "metadata": {},
   "outputs": [],
   "source": [
    "shpdata.drop(index = idx).to_file(r'.\\data\\NYdata\\taxi_zones_clip1.geojson',driver=\"GeoJSON\", encoding='utf-8')\n",
    "idx.append(138-1)\n",
    "idx.append(132-1)\n",
    "shpdata.drop(index = idx).to_file(r'.\\data\\NYdata\\taxi_zones_clip2.geojson',driver=\"GeoJSON\", encoding='utf-8')"
   ]
  },
  {
   "cell_type": "code",
   "execution_count": 26,
   "id": "ab7f6a13",
   "metadata": {},
   "outputs": [
    {
     "ename": "TypeError",
     "evalue": "Cannot interpret '<geopandas.array.GeometryDtype object at 0x000002A9C5E59430>' as a data type",
     "output_type": "error",
     "traceback": [
      "\u001b[1;31m---------------------------------------------------------------------------\u001b[0m",
      "\u001b[1;31mTypeError\u001b[0m                                 Traceback (most recent call last)",
      "Input \u001b[1;32mIn [26]\u001b[0m, in \u001b[0;36m<cell line: 4>\u001b[1;34m()\u001b[0m\n\u001b[0;32m      2\u001b[0m idx\u001b[38;5;241m.\u001b[39mappend(\u001b[38;5;241m138\u001b[39m\u001b[38;5;241m-\u001b[39m\u001b[38;5;241m1\u001b[39m)\n\u001b[0;32m      3\u001b[0m idx\u001b[38;5;241m.\u001b[39mappend(\u001b[38;5;241m132\u001b[39m\u001b[38;5;241m-\u001b[39m\u001b[38;5;241m1\u001b[39m)\n\u001b[1;32m----> 4\u001b[0m \u001b[43mshpdata\u001b[49m\u001b[38;5;241;43m.\u001b[39;49m\u001b[43mdrop\u001b[49m\u001b[43m(\u001b[49m\u001b[43mindex\u001b[49m\u001b[43m \u001b[49m\u001b[38;5;241;43m=\u001b[39;49m\u001b[43m \u001b[49m\u001b[43midx\u001b[49m\u001b[43m)\u001b[49m\u001b[38;5;241;43m.\u001b[39;49m\u001b[43mto_file\u001b[49m\u001b[43m(\u001b[49m\u001b[38;5;124;43mr\u001b[39;49m\u001b[38;5;124;43m'\u001b[39;49m\u001b[38;5;124;43m.\u001b[39;49m\u001b[38;5;124;43m\\\u001b[39;49m\u001b[38;5;124;43mdata\u001b[39;49m\u001b[38;5;124;43m\\\u001b[39;49m\u001b[38;5;124;43mNYdata\u001b[39;49m\u001b[38;5;124;43m\\\u001b[39;49m\u001b[38;5;124;43mtaxi_zones_clip2.csv\u001b[39;49m\u001b[38;5;124;43m'\u001b[39;49m\u001b[43m,\u001b[49m\u001b[43m \u001b[49m\u001b[43mencoding\u001b[49m\u001b[38;5;241;43m=\u001b[39;49m\u001b[38;5;124;43m'\u001b[39;49m\u001b[38;5;124;43mutf-8\u001b[39;49m\u001b[38;5;124;43m'\u001b[39;49m\u001b[43m)\u001b[49m\n",
      "File \u001b[1;32mD:\\Anaconda\\lib\\site-packages\\geopandas\\geodataframe.py:1203\u001b[0m, in \u001b[0;36mGeoDataFrame.to_file\u001b[1;34m(self, filename, driver, schema, index, **kwargs)\u001b[0m\n\u001b[0;32m   1120\u001b[0m \u001b[38;5;124;03m\"\"\"Write the ``GeoDataFrame`` to a file.\u001b[39;00m\n\u001b[0;32m   1121\u001b[0m \n\u001b[0;32m   1122\u001b[0m \u001b[38;5;124;03mBy default, an ESRI shapefile is written, but any OGR data source\u001b[39;00m\n\u001b[1;32m   (...)\u001b[0m\n\u001b[0;32m   1199\u001b[0m \u001b[38;5;124;03m>>> gdf.to_file('dataframe.shp', mode=\"a\")  # doctest: +SKIP\u001b[39;00m\n\u001b[0;32m   1200\u001b[0m \u001b[38;5;124;03m\"\"\"\u001b[39;00m\n\u001b[0;32m   1201\u001b[0m \u001b[38;5;28;01mfrom\u001b[39;00m \u001b[38;5;21;01mgeopandas\u001b[39;00m\u001b[38;5;21;01m.\u001b[39;00m\u001b[38;5;21;01mio\u001b[39;00m\u001b[38;5;21;01m.\u001b[39;00m\u001b[38;5;21;01mfile\u001b[39;00m \u001b[38;5;28;01mimport\u001b[39;00m _to_file\n\u001b[1;32m-> 1203\u001b[0m _to_file(\u001b[38;5;28mself\u001b[39m, filename, driver, schema, index, \u001b[38;5;241m*\u001b[39m\u001b[38;5;241m*\u001b[39mkwargs)\n",
      "File \u001b[1;32mD:\\Anaconda\\lib\\site-packages\\geopandas\\io\\file.py:545\u001b[0m, in \u001b[0;36m_to_file\u001b[1;34m(df, filename, driver, schema, index, mode, crs, engine, **kwargs)\u001b[0m\n\u001b[0;32m    538\u001b[0m     warnings\u001b[38;5;241m.\u001b[39mwarn(\n\u001b[0;32m    539\u001b[0m         \u001b[38;5;124m\"\u001b[39m\u001b[38;5;124mColumn names longer than 10 characters will be truncated when saved to \u001b[39m\u001b[38;5;124m\"\u001b[39m\n\u001b[0;32m    540\u001b[0m         \u001b[38;5;124m\"\u001b[39m\u001b[38;5;124mESRI Shapefile.\u001b[39m\u001b[38;5;124m\"\u001b[39m,\n\u001b[0;32m    541\u001b[0m         stacklevel\u001b[38;5;241m=\u001b[39m\u001b[38;5;241m3\u001b[39m,\n\u001b[0;32m    542\u001b[0m     )\n\u001b[0;32m    544\u001b[0m \u001b[38;5;28;01mif\u001b[39;00m engine \u001b[38;5;241m==\u001b[39m \u001b[38;5;124m\"\u001b[39m\u001b[38;5;124mfiona\u001b[39m\u001b[38;5;124m\"\u001b[39m:\n\u001b[1;32m--> 545\u001b[0m     _to_file_fiona(df, filename, driver, schema, crs, mode, \u001b[38;5;241m*\u001b[39m\u001b[38;5;241m*\u001b[39mkwargs)\n\u001b[0;32m    546\u001b[0m \u001b[38;5;28;01melif\u001b[39;00m engine \u001b[38;5;241m==\u001b[39m \u001b[38;5;124m\"\u001b[39m\u001b[38;5;124mpyogrio\u001b[39m\u001b[38;5;124m\"\u001b[39m:\n\u001b[0;32m    547\u001b[0m     _to_file_pyogrio(df, filename, driver, schema, crs, mode, \u001b[38;5;241m*\u001b[39m\u001b[38;5;241m*\u001b[39mkwargs)\n",
      "File \u001b[1;32mD:\\Anaconda\\lib\\site-packages\\geopandas\\io\\file.py:555\u001b[0m, in \u001b[0;36m_to_file_fiona\u001b[1;34m(df, filename, driver, schema, crs, mode, **kwargs)\u001b[0m\n\u001b[0;32m    552\u001b[0m \u001b[38;5;28;01mdef\u001b[39;00m \u001b[38;5;21m_to_file_fiona\u001b[39m(df, filename, driver, schema, crs, mode, \u001b[38;5;241m*\u001b[39m\u001b[38;5;241m*\u001b[39mkwargs):\n\u001b[0;32m    554\u001b[0m     \u001b[38;5;28;01mif\u001b[39;00m schema \u001b[38;5;129;01mis\u001b[39;00m \u001b[38;5;28;01mNone\u001b[39;00m:\n\u001b[1;32m--> 555\u001b[0m         schema \u001b[38;5;241m=\u001b[39m \u001b[43minfer_schema\u001b[49m\u001b[43m(\u001b[49m\u001b[43mdf\u001b[49m\u001b[43m)\u001b[49m\n\u001b[0;32m    557\u001b[0m     \u001b[38;5;28;01mif\u001b[39;00m crs:\n\u001b[0;32m    558\u001b[0m         crs \u001b[38;5;241m=\u001b[39m pyproj\u001b[38;5;241m.\u001b[39mCRS\u001b[38;5;241m.\u001b[39mfrom_user_input(crs)\n",
      "File \u001b[1;32mD:\\Anaconda\\lib\\site-packages\\geopandas\\io\\file.py:622\u001b[0m, in \u001b[0;36minfer_schema\u001b[1;34m(df)\u001b[0m\n\u001b[0;32m    618\u001b[0m         out_type \u001b[38;5;241m=\u001b[39m \u001b[38;5;124m\"\u001b[39m\u001b[38;5;124mint\u001b[39m\u001b[38;5;124m\"\u001b[39m\n\u001b[0;32m    619\u001b[0m     \u001b[38;5;28;01mreturn\u001b[39;00m out_type\n\u001b[0;32m    621\u001b[0m properties \u001b[38;5;241m=\u001b[39m OrderedDict(\n\u001b[1;32m--> 622\u001b[0m     [\n\u001b[0;32m    623\u001b[0m         (col, convert_type(col, _type))\n\u001b[0;32m    624\u001b[0m         \u001b[38;5;28;01mfor\u001b[39;00m col, _type \u001b[38;5;129;01min\u001b[39;00m \u001b[38;5;28mzip\u001b[39m(df\u001b[38;5;241m.\u001b[39mcolumns, df\u001b[38;5;241m.\u001b[39mdtypes)\n\u001b[0;32m    625\u001b[0m         \u001b[38;5;28;01mif\u001b[39;00m col \u001b[38;5;241m!=\u001b[39m df\u001b[38;5;241m.\u001b[39m_geometry_column_name\n\u001b[0;32m    626\u001b[0m     ]\n\u001b[0;32m    627\u001b[0m )\n\u001b[0;32m    629\u001b[0m \u001b[38;5;28;01mif\u001b[39;00m df\u001b[38;5;241m.\u001b[39mempty:\n\u001b[0;32m    630\u001b[0m     warnings\u001b[38;5;241m.\u001b[39mwarn(\n\u001b[0;32m    631\u001b[0m         \u001b[38;5;124m\"\u001b[39m\u001b[38;5;124mYou are attempting to write an empty DataFrame to file. \u001b[39m\u001b[38;5;124m\"\u001b[39m\n\u001b[0;32m    632\u001b[0m         \u001b[38;5;124m\"\u001b[39m\u001b[38;5;124mFor some drivers, this operation may fail.\u001b[39m\u001b[38;5;124m\"\u001b[39m,\n\u001b[0;32m    633\u001b[0m         \u001b[38;5;167;01mUserWarning\u001b[39;00m,\n\u001b[0;32m    634\u001b[0m         stacklevel\u001b[38;5;241m=\u001b[39m\u001b[38;5;241m3\u001b[39m,\n\u001b[0;32m    635\u001b[0m     )\n",
      "File \u001b[1;32mD:\\Anaconda\\lib\\site-packages\\geopandas\\io\\file.py:623\u001b[0m, in \u001b[0;36m<listcomp>\u001b[1;34m(.0)\u001b[0m\n\u001b[0;32m    618\u001b[0m         out_type \u001b[38;5;241m=\u001b[39m \u001b[38;5;124m\"\u001b[39m\u001b[38;5;124mint\u001b[39m\u001b[38;5;124m\"\u001b[39m\n\u001b[0;32m    619\u001b[0m     \u001b[38;5;28;01mreturn\u001b[39;00m out_type\n\u001b[0;32m    621\u001b[0m properties \u001b[38;5;241m=\u001b[39m OrderedDict(\n\u001b[0;32m    622\u001b[0m     [\n\u001b[1;32m--> 623\u001b[0m         (col, \u001b[43mconvert_type\u001b[49m\u001b[43m(\u001b[49m\u001b[43mcol\u001b[49m\u001b[43m,\u001b[49m\u001b[43m \u001b[49m\u001b[43m_type\u001b[49m\u001b[43m)\u001b[49m)\n\u001b[0;32m    624\u001b[0m         \u001b[38;5;28;01mfor\u001b[39;00m col, _type \u001b[38;5;129;01min\u001b[39;00m \u001b[38;5;28mzip\u001b[39m(df\u001b[38;5;241m.\u001b[39mcolumns, df\u001b[38;5;241m.\u001b[39mdtypes)\n\u001b[0;32m    625\u001b[0m         \u001b[38;5;28;01mif\u001b[39;00m col \u001b[38;5;241m!=\u001b[39m df\u001b[38;5;241m.\u001b[39m_geometry_column_name\n\u001b[0;32m    626\u001b[0m     ]\n\u001b[0;32m    627\u001b[0m )\n\u001b[0;32m    629\u001b[0m \u001b[38;5;28;01mif\u001b[39;00m df\u001b[38;5;241m.\u001b[39mempty:\n\u001b[0;32m    630\u001b[0m     warnings\u001b[38;5;241m.\u001b[39mwarn(\n\u001b[0;32m    631\u001b[0m         \u001b[38;5;124m\"\u001b[39m\u001b[38;5;124mYou are attempting to write an empty DataFrame to file. \u001b[39m\u001b[38;5;124m\"\u001b[39m\n\u001b[0;32m    632\u001b[0m         \u001b[38;5;124m\"\u001b[39m\u001b[38;5;124mFor some drivers, this operation may fail.\u001b[39m\u001b[38;5;124m\"\u001b[39m,\n\u001b[0;32m    633\u001b[0m         \u001b[38;5;167;01mUserWarning\u001b[39;00m,\n\u001b[0;32m    634\u001b[0m         stacklevel\u001b[38;5;241m=\u001b[39m\u001b[38;5;241m3\u001b[39m,\n\u001b[0;32m    635\u001b[0m     )\n",
      "File \u001b[1;32mD:\\Anaconda\\lib\\site-packages\\geopandas\\io\\file.py:616\u001b[0m, in \u001b[0;36minfer_schema.<locals>.convert_type\u001b[1;34m(column, in_type)\u001b[0m\n\u001b[0;32m    614\u001b[0m     out_type \u001b[38;5;241m=\u001b[39m types[\u001b[38;5;28mstr\u001b[39m(in_type)]\n\u001b[0;32m    615\u001b[0m \u001b[38;5;28;01melse\u001b[39;00m:\n\u001b[1;32m--> 616\u001b[0m     out_type \u001b[38;5;241m=\u001b[39m \u001b[38;5;28mtype\u001b[39m(\u001b[43mnp\u001b[49m\u001b[38;5;241;43m.\u001b[39;49m\u001b[43mzeros\u001b[49m\u001b[43m(\u001b[49m\u001b[38;5;241;43m1\u001b[39;49m\u001b[43m,\u001b[49m\u001b[43m \u001b[49m\u001b[43min_type\u001b[49m\u001b[43m)\u001b[49m\u001b[38;5;241m.\u001b[39mitem())\u001b[38;5;241m.\u001b[39m\u001b[38;5;18m__name__\u001b[39m\n\u001b[0;32m    617\u001b[0m \u001b[38;5;28;01mif\u001b[39;00m out_type \u001b[38;5;241m==\u001b[39m \u001b[38;5;124m\"\u001b[39m\u001b[38;5;124mlong\u001b[39m\u001b[38;5;124m\"\u001b[39m:\n\u001b[0;32m    618\u001b[0m     out_type \u001b[38;5;241m=\u001b[39m \u001b[38;5;124m\"\u001b[39m\u001b[38;5;124mint\u001b[39m\u001b[38;5;124m\"\u001b[39m\n",
      "\u001b[1;31mTypeError\u001b[0m: Cannot interpret '<geopandas.array.GeometryDtype object at 0x000002A9C5E59430>' as a data type"
     ]
    }
   ],
   "source": [
    "shpdata.drop(index = idx).to_csv(r'.\\data\\NYdata\\taxi_zones_clip1.csv', encoding='utf-8')\n",
    "idx.append(138-1)\n",
    "idx.append(132-1)\n",
    "shpdata.drop(index = idx).to_file(r'.\\data\\NYdata\\taxi_zones_clip2.csv', encoding='utf-8')"
   ]
  },
  {
   "cell_type": "code",
   "execution_count": null,
   "id": "df511749",
   "metadata": {},
   "outputs": [],
   "source": []
  }
 ],
 "metadata": {
  "kernelspec": {
   "display_name": "Python 3 (ipykernel)",
   "language": "python",
   "name": "python3"
  },
  "language_info": {
   "codemirror_mode": {
    "name": "ipython",
    "version": 3
   },
   "file_extension": ".py",
   "mimetype": "text/x-python",
   "name": "python",
   "nbconvert_exporter": "python",
   "pygments_lexer": "ipython3",
   "version": "3.9.12"
  }
 },
 "nbformat": 4,
 "nbformat_minor": 5
}
